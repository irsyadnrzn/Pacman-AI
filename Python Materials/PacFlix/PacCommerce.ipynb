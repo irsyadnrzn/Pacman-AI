{
 "cells": [
  {
   "cell_type": "code",
   "execution_count": 1,
   "metadata": {},
   "outputs": [],
   "source": [
    "from tabulate import tabulate\n",
    "from math import sqrt"
   ]
  },
  {
   "cell_type": "code",
   "execution_count": 29,
   "metadata": {},
   "outputs": [],
   "source": [
    "class Membership():\n",
    "    \n",
    "    data = {\n",
    "            'Sumbul':'Platinum',\n",
    "            'Ana': 'Gold',\n",
    "            'Cahya': 'Platinum'\n",
    "        }\n",
    "    \n",
    "    def __init__(self, username):\n",
    "\n",
    "        self.username = username\n",
    "\n",
    "        self.membership = [\n",
    "            ['Membersip','Discount','Another Benefit'],\n",
    "            ['Platinum','15%','Benefit Silver + Gold + Voucher iburan + Cashback max. 30%'],\n",
    "            ['Gold', '10%', 'Benefit Silver + Voucher Ojek Online'],\n",
    "            ['Silver', '8%', 'Voucher Makanan']\n",
    "        ]\n",
    "        self.requirements = [\n",
    "            ['Membership', 'Monthly Expense (juta)', 'Montly Income (juta)'],\n",
    "            ['Platinum', 8, 15],\n",
    "            ['Gold', 6, 10],\n",
    "            ['Silver', 5, 7]\n",
    "        ]\n",
    "    \n",
    "    def show_benefit(self):\n",
    "        header = self.membership[0]\n",
    "        table = self.membership[1:]\n",
    "        print(tabulate(table, header, tablefmt='pipe', colalign=(\"center\",\"center\",\"center\")))\n",
    "\n",
    "    def show_requirements(self):\n",
    "        header = self.requirements[0]\n",
    "        table = self.requirements[1:]\n",
    "        print(tabulate(table, header, tablefmt='pipe', colalign=(\"center\",\"center\",\"center\")))\n",
    "\n",
    "    def predict_membership(self, username, expense, income):\n",
    "        premium_dict = sqrt((expense - self.requirements[1][1])**2 + (income - self.requirements[1][2])**2)\n",
    "        gold_dict = sqrt((expense - self.requirements[2][1])**2 + (income - self.requirements[2][2])**2)   \n",
    "        silver_dict = sqrt((expense - self.requirements[3][1])**2 + (income - self.requirements[3][2])**2)   \n",
    "        all_dict = {\n",
    "            'Platinum': round(premium_dict,2), \n",
    "            'Gold': round(gold_dict,2), \n",
    "            'Silver': round(silver_dict,2)}\n",
    "        membership_index = min(all_dict.values())\n",
    "        membership_type = list(all_dict.keys())[list(all_dict.values()).index(membership_index)]\n",
    "        if username not in self.data.keys():\n",
    "            self.data[username] = membership_type\n",
    "\n",
    "        print(f\"Hasil perhitungan Euclidean Distance dari user Shandy adalah {all_dict}\")\n",
    "        \n",
    "        return membership_type\n",
    "    \n",
    "    def show_membership(self, username):\n",
    "        if username in self.data.keys():\n",
    "            return self.data[username]\n",
    "\n",
    "    def calculate_price(self, username, list_harga_barang):\n",
    "        total = sum(list_harga_barang)\n",
    "        for keys, values in self.data.items():\n",
    "            if username == keys:\n",
    "                Membership_type = values\n",
    "\n",
    "        if Membership_type == self.membership[1][0]:\n",
    "            amount = total - (total*int(self.membership[1][1][:2])/100)\n",
    "        elif Membership_type == self.membership[2][0]:\n",
    "            amount = total - (total*int(self.membership[2][1][:2])/100)\n",
    "        elif Membership_type == self.membership[3][0]:\n",
    "            amount = total - (total*int(self.membership[3][1][:1])/100)\n",
    "\n",
    "        return amount"
   ]
  },
  {
   "cell_type": "code",
   "execution_count": 30,
   "metadata": {},
   "outputs": [],
   "source": [
    "user_1 = Membership(\"Shandy\")"
   ]
  },
  {
   "cell_type": "code",
   "execution_count": 31,
   "metadata": {},
   "outputs": [
    {
     "data": {
      "text/plain": [
       "{'Sumbul': 'Platinum', 'Ana': 'Gold', 'Cahya': 'Platinum'}"
      ]
     },
     "execution_count": 31,
     "metadata": {},
     "output_type": "execute_result"
    }
   ],
   "source": [
    "user_1.data"
   ]
  },
  {
   "cell_type": "code",
   "execution_count": 32,
   "metadata": {},
   "outputs": [
    {
     "name": "stdout",
     "output_type": "stream",
     "text": [
      "|  Membersip  |  Discount  |                      Another Benefit                       |\n",
      "|:-----------:|:----------:|:----------------------------------------------------------:|\n",
      "|  Platinum   |    15%     | Benefit Silver + Gold + Voucher iburan + Cashback max. 30% |\n",
      "|    Gold     |    10%     |            Benefit Silver + Voucher Ojek Online            |\n",
      "|   Silver    |     8%     |                      Voucher Makanan                       |\n"
     ]
    }
   ],
   "source": [
    "user_1.show_benefit()"
   ]
  },
  {
   "cell_type": "code",
   "execution_count": 33,
   "metadata": {},
   "outputs": [
    {
     "name": "stdout",
     "output_type": "stream",
     "text": [
      "|  Membership  |  Monthly Expense (juta)  |  Montly Income (juta)  |\n",
      "|:------------:|:------------------------:|:----------------------:|\n",
      "|   Platinum   |            8             |           15           |\n",
      "|     Gold     |            6             |           10           |\n",
      "|    Silver    |            5             |           7            |\n"
     ]
    }
   ],
   "source": [
    "user_1.show_requirements()"
   ]
  },
  {
   "cell_type": "code",
   "execution_count": 34,
   "metadata": {},
   "outputs": [
    {
     "name": "stdout",
     "output_type": "stream",
     "text": [
      "Hasil perhitungan Euclidean Distance dari user Shandy adalah {'Platinum': 3.16, 'Gold': 3.61, 'Silver': 6.4}\n"
     ]
    },
    {
     "data": {
      "text/plain": [
       "'Platinum'"
      ]
     },
     "execution_count": 34,
     "metadata": {},
     "output_type": "execute_result"
    }
   ],
   "source": [
    "user_1.predict_membership(user_1.username,9,12)"
   ]
  },
  {
   "cell_type": "code",
   "execution_count": 35,
   "metadata": {},
   "outputs": [
    {
     "data": {
      "text/plain": [
       "{'Sumbul': 'Platinum',\n",
       " 'Ana': 'Gold',\n",
       " 'Cahya': 'Platinum',\n",
       " 'Shandy': 'Platinum'}"
      ]
     },
     "execution_count": 35,
     "metadata": {},
     "output_type": "execute_result"
    }
   ],
   "source": [
    "user_1.data"
   ]
  },
  {
   "cell_type": "code",
   "execution_count": 36,
   "metadata": {},
   "outputs": [
    {
     "data": {
      "text/plain": [
       "'Platinum'"
      ]
     },
     "execution_count": 36,
     "metadata": {},
     "output_type": "execute_result"
    }
   ],
   "source": [
    "user_1.show_membership(user_1.username)"
   ]
  },
  {
   "cell_type": "code",
   "execution_count": 37,
   "metadata": {},
   "outputs": [
    {
     "data": {
      "text/plain": [
       "637500.0"
      ]
     },
     "execution_count": 37,
     "metadata": {},
     "output_type": "execute_result"
    }
   ],
   "source": [
    "user_1.calculate_price(user_1.username, [150_000, 200_000, 400_000])"
   ]
  },
  {
   "cell_type": "code",
   "execution_count": 38,
   "metadata": {},
   "outputs": [],
   "source": [
    "user_ana = Membership(\"Ana\")"
   ]
  },
  {
   "cell_type": "code",
   "execution_count": 39,
   "metadata": {},
   "outputs": [
    {
     "data": {
      "text/plain": [
       "675000.0"
      ]
     },
     "execution_count": 39,
     "metadata": {},
     "output_type": "execute_result"
    }
   ],
   "source": [
    "user_ana.calculate_price(user_ana.username, [150_000, 200_000, 400_000])"
   ]
  },
  {
   "cell_type": "code",
   "execution_count": 40,
   "metadata": {},
   "outputs": [],
   "source": [
    "user_bambang = Membership(\"Bambang\")"
   ]
  },
  {
   "cell_type": "code",
   "execution_count": 41,
   "metadata": {},
   "outputs": [
    {
     "data": {
      "text/plain": [
       "{'Sumbul': 'Platinum',\n",
       " 'Ana': 'Gold',\n",
       " 'Cahya': 'Platinum',\n",
       " 'Shandy': 'Platinum'}"
      ]
     },
     "execution_count": 41,
     "metadata": {},
     "output_type": "execute_result"
    }
   ],
   "source": [
    "user_bambang.data"
   ]
  },
  {
   "cell_type": "code",
   "execution_count": 42,
   "metadata": {},
   "outputs": [
    {
     "name": "stdout",
     "output_type": "stream",
     "text": [
      "Hasil perhitungan Euclidean Distance dari user Shandy adalah {'Platinum': 12.08, 'Gold': 6.71, 'Silver': 3.61}\n"
     ]
    },
    {
     "data": {
      "text/plain": [
       "'Silver'"
      ]
     },
     "execution_count": 42,
     "metadata": {},
     "output_type": "execute_result"
    }
   ],
   "source": [
    "user_bambang.predict_membership(user_bambang.username, 3, 4)"
   ]
  },
  {
   "cell_type": "code",
   "execution_count": 44,
   "metadata": {},
   "outputs": [
    {
     "data": {
      "text/plain": [
       "1577800.0"
      ]
     },
     "execution_count": 44,
     "metadata": {},
     "output_type": "execute_result"
    }
   ],
   "source": [
    "user_bambang.calculate_price(user_bambang.username, [300_000, 150_000, 1_250_000, 15_000])"
   ]
  }
 ],
 "metadata": {
  "kernelspec": {
   "display_name": "base",
   "language": "python",
   "name": "python3"
  },
  "language_info": {
   "codemirror_mode": {
    "name": "ipython",
    "version": 3
   },
   "file_extension": ".py",
   "mimetype": "text/x-python",
   "name": "python",
   "nbconvert_exporter": "python",
   "pygments_lexer": "ipython3",
   "version": "3.11.7"
  }
 },
 "nbformat": 4,
 "nbformat_minor": 2
}
