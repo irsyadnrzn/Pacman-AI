{
 "cells": [
  {
   "cell_type": "code",
   "execution_count": 163,
   "metadata": {},
   "outputs": [],
   "source": [
    "import pandas as pd\n",
    "from tabulate import tabulate"
   ]
  },
  {
   "cell_type": "code",
   "execution_count": 164,
   "metadata": {},
   "outputs": [],
   "source": [
    "data = {\n",
    "    \"Shandy\": [\"Basic Plan\", 12, \"shandy-2134\"],\n",
    "    \"Cahya\": [\"Standard Plan\", 24, \"cahya-abcd\"],\n",
    "    \"Ana\": [\"Premium Plan\", 5, \"ana-2f9g\"],\n",
    "    \"Bagus\": [\"Basic Plan\", 11, \"bagus-9f92\"]\n",
    "}"
   ]
  },
  {
   "cell_type": "code",
   "execution_count": 229,
   "metadata": {},
   "outputs": [],
   "source": [
    "class User():\n",
    "    \n",
    "    def __init__(self, username, duration_plan, current_plan):\n",
    "        super().__init__()\n",
    "        self.username = username\n",
    "        self.duration_plan = duration_plan\n",
    "        self.current_plan = current_plan\n",
    "\n",
    "        self.headers = [\"Basic Plan\", \"Standard Plan\", \"Premium Plan\", \"Services\"]\n",
    "        self.benefits = [\n",
    "                    [True, True, True, \"Bisa Stream\"],\n",
    "                    [True, True, True, \"Bisa Download\"],\n",
    "                    [True, True, True, \"Kualitas SD\"],\n",
    "                    [False, True, True, \"Kualitas HD\"],\n",
    "                    [False, False, True, \"Kualitas UHD\"],\n",
    "                    [1, 2, 4, \"Number of Devices\"],\n",
    "                    [\"3rd party Movie only\", \"Basic Plan Content + Sports\", \"Basic Plan + Standard Plan + PacFlix Original Series\", \"Jenis Konten\"],\n",
    "                    [120_000, 160_000, 200_000, \"Harga\"]\n",
    "            ]\n",
    "    \n",
    "    def check_benefit(self):\n",
    "        print('PacFlix Plan List\\n')\n",
    "        print(tabulate(self.benefits, self.headers))\n",
    "\n",
    "    def check_plan(self, username):\n",
    "        plan = data[username][0]\n",
    "        print(username)\n",
    "        print(data[username][1], 'bulan')\n",
    "        print(f\"{data[username][0]} benefit list\")\n",
    "        if plan =='Basic Plan':\n",
    "            selected_benefits = [[benefit[0], benefit[-1]] for benefit in self.benefits]\n",
    "            print(tabulate(selected_benefits, [self.current_plan, 'services']))\n",
    "        elif plan == 'Standard Plan':\n",
    "            selected_benefits = [[benefit[1], benefit[-1]] for benefit in self.benefits]\n",
    "            print(tabulate(selected_benefits, [self.current_plan, 'services']))\n",
    "        elif plan == 'Premium Plan':\n",
    "            selected_benefits = [[benefit[2], benefit[-1]] for benefit in self.benefits]\n",
    "            print(tabulate(selected_benefits, [self.current_plan, 'services']))\n",
    "        else:\n",
    "            print(\"Invalid Plan\")\n",
    "\n",
    "    def upgrade_plan(self, new_plan):\n",
    "        if self.current_plan == new_plan:\n",
    "            print('You are already in the same plan')\n",
    "        elif self.current_plan == 'Basic Plan':\n",
    "            if self.duration_plan <= 12:\n",
    "                if new_plan == 'Standard Plan':\n",
    "                    total = 160_000 \n",
    "                    print(total)\n",
    "                elif new_plan == 'Premium Plan':\n",
    "                    total = 200_000 \n",
    "                    print(total)\n",
    "            else:\n",
    "                if new_plan == 'Standard Plan':\n",
    "                    total = 160_000 - (160_000 * 0.05)\n",
    "                    print(total)\n",
    "                elif new_plan == 'Premium Plan':\n",
    "                    total = 200_000 - (200_000 * 0.05)\n",
    "                    print(total)\n",
    "        elif self.current_plan == 'Standard Plan':\n",
    "            if self.duration_plan <= 12:\n",
    "                if new_plan == 'Premium Plan':\n",
    "                    total = 200_000\n",
    "                    print(total)\n",
    "                else: \n",
    "                    print(\"You can't downgrade plan\") \n",
    "            else:\n",
    "                if new_plan == 'Premium Plan':\n",
    "                    total = 200_000 - (200_000 * 0.05)\n",
    "                    print(total)\n",
    "                else : \n",
    "                    print(\"You can't downgrade plan\")\n",
    "        else:\n",
    "            print(\"You can't downgrade plan\")\n",
    "\n",
    "\n",
    "class NewUser():\n",
    "\n",
    "    def __init__(self, username):\n",
    "        super().__init__(self)\n",
    "        pass\n"
   ]
  },
  {
   "cell_type": "code",
   "execution_count": 230,
   "metadata": {},
   "outputs": [],
   "source": [
    "user_1 = User(\"Shandy\", 12, \"Basic Plan\")"
   ]
  },
  {
   "cell_type": "code",
   "execution_count": 231,
   "metadata": {},
   "outputs": [
    {
     "data": {
      "text/plain": [
       "('Shandy', 12, 'Basic Plan')"
      ]
     },
     "execution_count": 231,
     "metadata": {},
     "output_type": "execute_result"
    }
   ],
   "source": [
    "user_1.username, user_1.duration_plan, user_1.current_plan"
   ]
  },
  {
   "cell_type": "code",
   "execution_count": 232,
   "metadata": {},
   "outputs": [
    {
     "name": "stdout",
     "output_type": "stream",
     "text": [
      "Shandy\n",
      "12 bulan\n",
      "Basic Plan benefit list\n",
      "Basic Plan            services\n",
      "--------------------  -----------------\n",
      "True                  Bisa Stream\n",
      "True                  Bisa Download\n",
      "True                  Kualitas SD\n",
      "False                 Kualitas HD\n",
      "False                 Kualitas UHD\n",
      "1                     Number of Devices\n",
      "3rd party Movie only  Jenis Konten\n",
      "120000                Harga\n"
     ]
    }
   ],
   "source": [
    "user_1.check_plan(\"Shandy\")"
   ]
  },
  {
   "cell_type": "code",
   "execution_count": 233,
   "metadata": {},
   "outputs": [
    {
     "name": "stdout",
     "output_type": "stream",
     "text": [
      "PacFlix Plan List\n",
      "\n",
      "Basic Plan            Standard Plan                Premium Plan                                          Services\n",
      "--------------------  ---------------------------  ----------------------------------------------------  -----------------\n",
      "True                  True                         True                                                  Bisa Stream\n",
      "True                  True                         True                                                  Bisa Download\n",
      "True                  True                         True                                                  Kualitas SD\n",
      "False                 True                         True                                                  Kualitas HD\n",
      "False                 False                        True                                                  Kualitas UHD\n",
      "1                     2                            4                                                     Number of Devices\n",
      "3rd party Movie only  Basic Plan Content + Sports  Basic Plan + Standard Plan + PacFlix Original Series  Jenis Konten\n",
      "120000                160000                       200000                                                Harga\n"
     ]
    }
   ],
   "source": [
    "user_1.check_benefit()"
   ]
  },
  {
   "cell_type": "code",
   "execution_count": 234,
   "metadata": {},
   "outputs": [
    {
     "name": "stdout",
     "output_type": "stream",
     "text": [
      "200000\n"
     ]
    }
   ],
   "source": [
    "user_1.upgrade_plan('Premium Plan')"
   ]
  },
  {
   "cell_type": "code",
   "execution_count": 235,
   "metadata": {},
   "outputs": [],
   "source": [
    "user_2 = User(\"Cahya\", 24, \"Standard Plan\")"
   ]
  },
  {
   "cell_type": "code",
   "execution_count": 236,
   "metadata": {},
   "outputs": [
    {
     "name": "stdout",
     "output_type": "stream",
     "text": [
      "Cahya\n",
      "24 bulan\n",
      "Standard Plan benefit list\n",
      "Standard Plan                services\n",
      "---------------------------  -----------------\n",
      "True                         Bisa Stream\n",
      "True                         Bisa Download\n",
      "True                         Kualitas SD\n",
      "True                         Kualitas HD\n",
      "False                        Kualitas UHD\n",
      "2                            Number of Devices\n",
      "Basic Plan Content + Sports  Jenis Konten\n",
      "160000                       Harga\n"
     ]
    }
   ],
   "source": [
    "user_2.check_plan(\"Cahya\")"
   ]
  },
  {
   "cell_type": "code",
   "execution_count": 237,
   "metadata": {},
   "outputs": [
    {
     "name": "stdout",
     "output_type": "stream",
     "text": [
      "190000.0\n"
     ]
    }
   ],
   "source": [
    "user_2.upgrade_plan(\"Premium Plan\")"
   ]
  },
  {
   "cell_type": "code",
   "execution_count": 243,
   "metadata": {},
   "outputs": [],
   "source": [
    "class NewUser:\n",
    "    \n",
    "    def __init__(self, username):\n",
    "        self.username = username\n",
    "        self.check_list = []\n",
    "    \n",
    "    # method to dictionary to list to easier use\n",
    "    def convert_data_to_list(self, data):\n",
    "        for data in data.values():\n",
    "            for val in data:\n",
    "                self.check_list.append(val)\n",
    "                \n",
    "        return self.check_list\n",
    "        \n",
    "    # method to pick plan \n",
    "    def pick_plan(self, new_plan, referral_code):\n",
    "        if referral_code in self.check_list:\n",
    "            if new_plan == \"Basic Plan\":\n",
    "                total = 120_000 - (120_000 * 0.04)\n",
    "                return total\n",
    "            elif new_plan == \"Standard Plan\":\n",
    "                total = 160_000 - (160_000 * 0.04)\n",
    "                return total\n",
    "            elif new_plan == \"Premium Plan\":\n",
    "                total = 200_000 - (200_000 * 0.04)\n",
    "                return total\n",
    "            else:\n",
    "                print(\"Plan doesn't exist\")\n",
    "        else:\n",
    "            raise Exception(\"Referral Code doesn't exist\")"
   ]
  },
  {
   "cell_type": "code",
   "execution_count": 244,
   "metadata": {},
   "outputs": [],
   "source": [
    "faizal = NewUser(\"faizal_icikiwir\")"
   ]
  },
  {
   "cell_type": "code",
   "execution_count": 245,
   "metadata": {},
   "outputs": [
    {
     "data": {
      "text/plain": [
       "['Basic Plan',\n",
       " 12,\n",
       " 'shandy-2134',\n",
       " 'Standard Plan',\n",
       " 24,\n",
       " 'cahya-abcd',\n",
       " 'Premium Plan',\n",
       " 5,\n",
       " 'ana-2f9g',\n",
       " 'Basic Plan',\n",
       " 11,\n",
       " 'bagus-9f92']"
      ]
     },
     "execution_count": 245,
     "metadata": {},
     "output_type": "execute_result"
    }
   ],
   "source": [
    "faizal.convert_data_to_list(data)"
   ]
  },
  {
   "cell_type": "code",
   "execution_count": 246,
   "metadata": {},
   "outputs": [
    {
     "data": {
      "text/plain": [
       "115200.0"
      ]
     },
     "execution_count": 246,
     "metadata": {},
     "output_type": "execute_result"
    }
   ],
   "source": [
    "faizal.pick_plan(\"Basic Plan\", \"shandy-2134\")"
   ]
  },
  {
   "cell_type": "code",
   "execution_count": 247,
   "metadata": {},
   "outputs": [
    {
     "ename": "Exception",
     "evalue": "Referral Code doesn't exist",
     "output_type": "error",
     "traceback": [
      "\u001b[1;31m---------------------------------------------------------------------------\u001b[0m",
      "\u001b[1;31mException\u001b[0m                                 Traceback (most recent call last)",
      "Cell \u001b[1;32mIn[247], line 1\u001b[0m\n\u001b[1;32m----> 1\u001b[0m faizal\u001b[38;5;241m.\u001b[39mpick_plan(\u001b[38;5;124m\"\u001b[39m\u001b[38;5;124mBasic Plan\u001b[39m\u001b[38;5;124m\"\u001b[39m, \u001b[38;5;124m\"\u001b[39m\u001b[38;5;124mindira-22gs\u001b[39m\u001b[38;5;124m\"\u001b[39m)\n",
      "Cell \u001b[1;32mIn[243], line 30\u001b[0m, in \u001b[0;36mNewUser.pick_plan\u001b[1;34m(self, new_plan, referral_code)\u001b[0m\n\u001b[0;32m     28\u001b[0m         \u001b[38;5;28mprint\u001b[39m(\u001b[38;5;124m\"\u001b[39m\u001b[38;5;124mPlan doesn\u001b[39m\u001b[38;5;124m'\u001b[39m\u001b[38;5;124mt exist\u001b[39m\u001b[38;5;124m\"\u001b[39m)\n\u001b[0;32m     29\u001b[0m \u001b[38;5;28;01melse\u001b[39;00m:\n\u001b[1;32m---> 30\u001b[0m     \u001b[38;5;28;01mraise\u001b[39;00m \u001b[38;5;167;01mException\u001b[39;00m(\u001b[38;5;124m\"\u001b[39m\u001b[38;5;124mReferral Code doesn\u001b[39m\u001b[38;5;124m'\u001b[39m\u001b[38;5;124mt exist\u001b[39m\u001b[38;5;124m\"\u001b[39m)\n",
      "\u001b[1;31mException\u001b[0m: Referral Code doesn't exist"
     ]
    }
   ],
   "source": [
    "faizal.pick_plan(\"Basic Plan\", \"indira-22gs\")"
   ]
  }
 ],
 "metadata": {
  "kernelspec": {
   "display_name": "base",
   "language": "python",
   "name": "python3"
  },
  "language_info": {
   "codemirror_mode": {
    "name": "ipython",
    "version": 3
   },
   "file_extension": ".py",
   "mimetype": "text/x-python",
   "name": "python",
   "nbconvert_exporter": "python",
   "pygments_lexer": "ipython3",
   "version": "3.11.7"
  }
 },
 "nbformat": 4,
 "nbformat_minor": 2
}
