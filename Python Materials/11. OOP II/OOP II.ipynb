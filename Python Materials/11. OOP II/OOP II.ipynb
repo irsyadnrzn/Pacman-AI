{
 "cells": [
  {
   "cell_type": "markdown",
   "metadata": {},
   "source": [
    "# Case 1"
   ]
  },
  {
   "cell_type": "code",
   "execution_count": 3,
   "metadata": {},
   "outputs": [
    {
     "name": "stdout",
     "output_type": "stream",
     "text": [
      "Pesawat asal Swedia memiliki kode pesawat A7S37\n",
      "Pesawat asal Indonesia memiliki kode pesawat IDN17\n"
     ]
    }
   ],
   "source": [
    "class Jets:\n",
    "    def __init__(self, asal, nama):\n",
    "        self.asal = asal\n",
    "        self.nama = nama \n",
    "\n",
    "class A7S37(Jets):\n",
    "    pass\n",
    "\n",
    "class IDN17(Jets):\n",
    "    pass\n",
    "\n",
    "jet_1 = A7S37('Swedia', 'A7S37')\n",
    "jet_2 = IDN17('Indonesia', 'IDN17')\n",
    "\n",
    "print(f\"Pesawat asal {jet_1.asal} memiliki kode pesawat {jet_1.nama}\")\n",
    "print(f\"Pesawat asal {jet_2.asal} memiliki kode pesawat {jet_2.nama}\")"
   ]
  },
  {
   "cell_type": "markdown",
   "metadata": {},
   "source": [
    "# Case 2"
   ]
  },
  {
   "cell_type": "code",
   "execution_count": 5,
   "metadata": {},
   "outputs": [
    {
     "name": "stdout",
     "output_type": "stream",
     "text": [
      "TOtal pendapatan : 20000\n"
     ]
    }
   ],
   "source": [
    "class Kendaraan:\n",
    "    def __init__(self, kapasitas): \n",
    "        self.kapasitas = kapasitas\n",
    "\n",
    "class Mikrolet(Kendaraan):\n",
    "    def __init__(self, kapasitas, tarif = 2000):\n",
    "        super().__init__(kapasitas)\n",
    "        self.tarif = tarif\n",
    "\n",
    "    def pendapatan(self):\n",
    "        hasil = self.tarif * self.kapasitas\n",
    "        return hasil\n",
    "    \n",
    "mikrolet_1 = Mikrolet(10)\n",
    "pendapatan_1 = mikrolet_1.pendapatan()\n",
    "print(f\"TOtal pendapatan : {pendapatan_1}\")"
   ]
  },
  {
   "cell_type": "code",
   "execution_count": 9,
   "metadata": {},
   "outputs": [
    {
     "name": "stdout",
     "output_type": "stream",
     "text": [
      "Total pendapatan bus: 165000.0\n"
     ]
    }
   ],
   "source": [
    "class Kendaraan:\n",
    "    def __init__(self, kapasitas): \n",
    "        self.kapasitas = kapasitas\n",
    "\n",
    "class Bus(Kendaraan):\n",
    "    PEMELIHARAAN = 0.1\n",
    "\n",
    "    def __init__(self, kapasitas, tarif = 5000):\n",
    "        super().__init__(kapasitas)\n",
    "        self.tarif = tarif\n",
    "    \n",
    "    def keuntungan(self):\n",
    "        pendapatan = self.tarif * self.kapasitas\n",
    "        hasil = pendapatan + pendapatan * self.PEMELIHARAAN\n",
    "        return hasil\n",
    "    \n",
    "bus_1 = Bus(30)\n",
    "keuntungan_bus = bus_1.keuntungan()\n",
    "print(f\"Total pendapatan bus: {keuntungan_bus}\")"
   ]
  },
  {
   "cell_type": "markdown",
   "metadata": {},
   "source": [
    "# Case 3"
   ]
  },
  {
   "cell_type": "code",
   "execution_count": 11,
   "metadata": {},
   "outputs": [
    {
     "name": "stdout",
     "output_type": "stream",
     "text": [
      "Person name: Tomas Wild\n",
      "Person Age : 37\n",
      "--------------------------\n",
      "Student name : Albert\n",
      "Student Age : 23\n",
      "Student interest : Mathematics\n"
     ]
    }
   ],
   "source": [
    "class Person:\n",
    "    def __init__(self, nama, umur):\n",
    "        self.nama = nama\n",
    "        self.umur = umur\n",
    "\n",
    "    def display(self):\n",
    "        print(f\"Person name: {self.nama}\")\n",
    "        print(f\"Person Age : {self.umur}\")\n",
    "        \n",
    "class Children(Person):\n",
    "    def __init__(self, nama, umur, peminatan):\n",
    "        super().__init__(nama, umur)\n",
    "        self.peminatan = peminatan\n",
    "\n",
    "    def display_student(self):\n",
    "        print(f\"Student name : {self.nama}\")\n",
    "        print(f\"Student Age : {self.umur}\")\n",
    "        print(f\"Student interest : {self.peminatan}\")\n",
    "\n",
    "person_1 = Person('Tomas Wild', 37)\n",
    "person_1.display()\n",
    "print(\"--------------------------\")\n",
    "student_1 = Children('Albert', 23, 'Mathematics')\n",
    "student_1.display_student()"
   ]
  },
  {
   "cell_type": "code",
   "execution_count": 12,
   "metadata": {},
   "outputs": [
    {
     "name": "stdout",
     "output_type": "stream",
     "text": [
      "Person name: Tomas Wild\n",
      "Person Age : 37\n",
      "--------------------------\n",
      "Student name : Albert\n",
      "Student Age : 23\n",
      "Student interest : Mathematics\n",
      "Student name : Jonathan\n",
      "Student Age : 46\n",
      "Student interest : Science\n",
      "Student name : Ronald\n",
      "Student Age : 25\n",
      "Student interest : Law\n",
      "--------------------------\n",
      "Albert masuk ke dalam kategori grup Muda\n",
      "Jonathan masuk ke dalam kategori grup Lanjut Usia\n",
      "Ronald masuk ke dalam kategori grup Produktif\n"
     ]
    }
   ],
   "source": [
    "class Person:\n",
    "    def __init__(self, nama, umur):\n",
    "        self.nama = nama\n",
    "        self.umur = umur\n",
    "\n",
    "    def display(self):\n",
    "        print(f\"Person name: {self.nama}\")\n",
    "        print(f\"Person Age : {self.umur}\")\n",
    "        \n",
    "class Children(Person):\n",
    "    def __init__(self, nama, umur, peminatan):\n",
    "        super().__init__(nama, umur)\n",
    "        self.peminatan = peminatan\n",
    "\n",
    "    def display_student(self):\n",
    "        print(f\"Student name : {self.nama}\")\n",
    "        print(f\"Student Age : {self.umur}\")\n",
    "        print(f\"Student interest : {self.peminatan}\")\n",
    "    \n",
    "    def age_filter(self):\n",
    "        if self.umur > 45:\n",
    "            grup = 'Lanjut Usia'\n",
    "        elif self.umur >= 25 :\n",
    "            grup = 'Produktif'\n",
    "        elif self.umur >= 18:\n",
    "            grup = 'Muda'\n",
    "        return grup\n",
    "\n",
    "person_1 = Person('Tomas Wild', 37)\n",
    "person_1.display()\n",
    "print(\"--------------------------\")\n",
    "student_1 = Children('Albert', 23, 'Mathematics')\n",
    "student_1.display_student()\n",
    "student_2 = Children('Jonathan', 46, 'Science')\n",
    "student_2.display_student()\n",
    "student_3 = Children('Ronald', 25, 'Law')\n",
    "student_3.display_student()\n",
    "print(\"--------------------------\")\n",
    "\n",
    "print(f\"{student_1.nama} masuk ke dalam kategori grup {student_1.age_filter()}\")\n",
    "print(f\"{student_2.nama} masuk ke dalam kategori grup {student_2.age_filter()}\")\n",
    "print(f\"{student_3.nama} masuk ke dalam kategori grup {student_3.age_filter()}\")"
   ]
  }
 ],
 "metadata": {
  "kernelspec": {
   "display_name": "Python 3",
   "language": "python",
   "name": "python3"
  },
  "language_info": {
   "codemirror_mode": {
    "name": "ipython",
    "version": 3
   },
   "file_extension": ".py",
   "mimetype": "text/x-python",
   "name": "python",
   "nbconvert_exporter": "python",
   "pygments_lexer": "ipython3",
   "version": "3.12.4"
  }
 },
 "nbformat": 4,
 "nbformat_minor": 2
}
