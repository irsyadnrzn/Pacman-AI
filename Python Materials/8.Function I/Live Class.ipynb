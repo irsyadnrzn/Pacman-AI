{
 "cells": [
  {
   "cell_type": "markdown",
   "metadata": {},
   "source": [
    "# Task 1 "
   ]
  },
  {
   "cell_type": "code",
   "execution_count": 15,
   "metadata": {},
   "outputs": [],
   "source": [
    "def penghasilan_pegawai():\n",
    "    kategori = input(\"kategori Pegawai (Tetap/Kontrak) :\")\n",
    "    jam_lembur = float(input(\"Berapa jam lembur :\"))\n",
    "    gaji_pokok = 4_500_000\n",
    "\n",
    "    kategori = kategori.title()\n",
    "\n",
    "    if kategori == 'Tetap':\n",
    "        penghasilan = gaji_pokok\n",
    "        if jam_lembur > 0 and jam_lembur < 20 :\n",
    "            gaji_lembur = jam_lembur * 50_000\n",
    "        elif jam_lembur >= 20:\n",
    "            gaji_lembur = 20 * 50_000\n",
    "        else:\n",
    "            return print(\"Jam lembur tidak boleh negatif!\")  \n",
    "\n",
    "\n",
    "    elif kategori == 'Kontrak':\n",
    "        penghasilan = gaji_pokok * 0.75\n",
    "        if jam_lembur > 0 and jam_lembur < 20 :\n",
    "            gaji_lembur = jam_lembur * 30_000\n",
    "        elif jam_lembur >= 20:\n",
    "            gaji_lembur = 20 * 30_000\n",
    "        else:\n",
    "            return print(\"Jam lembur tidak boleh negatif!\")\n",
    "    else:\n",
    "        return print(\"Kategori yang and masukkan salah!\")\n",
    "    \n",
    "    gaji_total = penghasilan + gaji_lembur\n",
    "    pajak = gaji_total * 0.01 \n",
    "    gaji_bersih = gaji_total - pajak\n",
    "\n",
    "    print('Total gaji lembur : Rp. {}'.format(int(gaji_lembur)))  \n",
    "    print('Pendapatan : Rp. {}'.format(int(gaji_total)))   \n",
    "    print('Pajak yang harus dibayar : Rp. {}'.format(int(pajak)))    \n",
    "    print('Total pendapatan akhir : Rp. {}'.format(int(gaji_bersih)))       \n"
   ]
  },
  {
   "cell_type": "code",
   "execution_count": 16,
   "metadata": {},
   "outputs": [
    {
     "name": "stdout",
     "output_type": "stream",
     "text": [
      "Total gaji lembur : Rp. 150000\n",
      "Pendapatan : Rp. 4650000\n",
      "Pajak yang harus dibayar : Rp. 46500\n",
      "Total pendapatan akhir : Rp. 4603500\n"
     ]
    }
   ],
   "source": [
    "penghasilan_pegawai()"
   ]
  },
  {
   "cell_type": "markdown",
   "metadata": {},
   "source": [
    "# Task 2"
   ]
  },
  {
   "cell_type": "code",
   "execution_count": 23,
   "metadata": {},
   "outputs": [],
   "source": [
    "def perhitungan_ration(list1):\n",
    "    length = len(list1)\n",
    "    negative = []\n",
    "    zero = []\n",
    "    positive = []\n",
    "\n",
    "    for num in list1:\n",
    "        if num < 0:\n",
    "            negative.append(num)\n",
    "        elif num == 0: \n",
    "            zero.append(num)\n",
    "        else:\n",
    "            positive.append(num)\n",
    "    \n",
    "    ratio_dict = {\n",
    "        'positif' : round((len(positive)/length),3),\n",
    "        'negatif' : round((len(negative)/length),3),\n",
    "        'nol' : round((len(zero)/length),3)\n",
    "    }\n",
    "\n",
    "    for key, value in ratio_dict.items():\n",
    "        print(f\"Rasio bilangan {key} adalah {value}\")"
   ]
  },
  {
   "cell_type": "code",
   "execution_count": 24,
   "metadata": {},
   "outputs": [
    {
     "name": "stdout",
     "output_type": "stream",
     "text": [
      "Rasio bilangan positif adalah 0.625\n",
      "Rasio bilangan negatif adalah 0.25\n",
      "Rasio bilangan nol adalah 0.125\n"
     ]
    }
   ],
   "source": [
    "list1 = [10, 8, 6, 4, 2, 0, -2, -4]\n",
    "\n",
    "perhitungan_ration(list1)"
   ]
  },
  {
   "cell_type": "markdown",
   "metadata": {},
   "source": [
    "# Task 3 n 4"
   ]
  },
  {
   "cell_type": "code",
   "execution_count": 32,
   "metadata": {},
   "outputs": [],
   "source": [
    "def harga_promo(*harga):\n",
    "\n",
    "    \"\"\"Fungsi untuk menghitung harga bayar seorang pembeli\n",
    "        Parameter \n",
    "            harga(int): harga bayar per produk\n",
    "        Return \n",
    "            total_bayar: harga yang harus dibayar pembeli untuk semua belanjaannya\"\"\"\n",
    "\n",
    "    total_harga = sum(harga)\n",
    "    diskon = total_harga * 0.45\n",
    "    total_bayar = total_harga - diskon\n",
    "    \n",
    "    return total_bayar"
   ]
  },
  {
   "cell_type": "code",
   "execution_count": 31,
   "metadata": {},
   "outputs": [
    {
     "name": "stdout",
     "output_type": "stream",
     "text": [
      "Harga akhir yang dibayarkan : 1485000\n",
      "Help on function harga_promo in module __main__:\n",
      "\n",
      "harga_promo(*harga)\n",
      "    Fungsi untuk menghitung harga bayar seorang pembeli\n",
      "    Parameter\n",
      "        harga(int): harga bayar per produk\n",
      "    Return\n",
      "        total_bayar: harga yang harus dibayar pembeli untuk semua belanjaannya\n",
      "\n",
      "None\n"
     ]
    }
   ],
   "source": [
    "total = harga_promo(200000, 300000, 400000, 500000, 600000, 700000)\n",
    "print(f\"Harga akhir yang dibayarkan : {int(total)}\")\n",
    "print(help(harga_promo))"
   ]
  },
  {
   "cell_type": "markdown",
   "metadata": {},
   "source": [
    "# Task 5\n"
   ]
  },
  {
   "cell_type": "code",
   "execution_count": 33,
   "metadata": {},
   "outputs": [],
   "source": [
    "def daftar_pegawai(**karyawan):\n",
    "    for nama, asal in karyawan.items():\n",
    "        print(f\"{nama} berasal dari kota {asal}\")"
   ]
  },
  {
   "cell_type": "code",
   "execution_count": 34,
   "metadata": {},
   "outputs": [
    {
     "name": "stdout",
     "output_type": "stream",
     "text": [
      "Irsyaad berasal dari kota Bekasi\n",
      "Chaidar berasal dari kota Ternate\n",
      "Dwita berasal dari kota Bali\n",
      "Fikria berasal dari kota Malang\n",
      "Nurhaliza berasal dari kota Yogyakarta\n"
     ]
    }
   ],
   "source": [
    "daftar_pegawai(Irsyaad = \"Bekasi\", Chaidar = \"Ternate\", Dwita = \"Bali\", Fikria = \"Malang\", Nurhaliza = \"Yogyakarta\")"
   ]
  }
 ],
 "metadata": {
  "kernelspec": {
   "display_name": "Python 3",
   "language": "python",
   "name": "python3"
  },
  "language_info": {
   "codemirror_mode": {
    "name": "ipython",
    "version": 3
   },
   "file_extension": ".py",
   "mimetype": "text/x-python",
   "name": "python",
   "nbconvert_exporter": "python",
   "pygments_lexer": "ipython3",
   "version": "3.12.4"
  }
 },
 "nbformat": 4,
 "nbformat_minor": 2
}
