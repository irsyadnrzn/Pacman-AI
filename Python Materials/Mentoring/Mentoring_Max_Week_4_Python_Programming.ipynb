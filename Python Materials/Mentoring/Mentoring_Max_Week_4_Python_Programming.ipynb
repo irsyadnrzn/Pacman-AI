{
  "cells": [
    {
      "cell_type": "markdown",
      "metadata": {
        "id": "oiHKP1fFcQg8"
      },
      "source": [
        "# Week 4 - Python Programming\n",
        "---\n",
        "\n",
        "Mentoring Session - Job Preparation Program - Pacmann AI"
      ]
    },
    {
      "cell_type": "markdown",
      "metadata": {
        "id": "mXjAL-TyG8O_"
      },
      "source": [
        "# Task 1. Find a Double Promo User\n",
        "\n",
        "Category: Medium\n",
        "\n",
        "---"
      ]
    },
    {
      "cell_type": "markdown",
      "metadata": {
        "id": "ABI5GvUJG8Pc"
      },
      "source": [
        "**Task Descriptions**\n",
        "- Given lists of `user_id`, `promo_A_status`, `promo_B_status`\n",
        "- Your task is to calculate how many user get a double promo (promo A and B)"
      ]
    },
    {
      "cell_type": "markdown",
      "metadata": {
        "id": "XLHq0gYTG8Pd"
      },
      "source": [
        "Example\n",
        "- `user_id = [3, 4, 5]`\n",
        "- `promo_A_status = [0, 1, 1]`\n",
        "  - This means, `user_id` 4 and 5 get promo A\n",
        "\n",
        "- `promo_B_status = [1, 1, 0]`\n",
        "  - This means, `user_id` 3 and 4 get promo B\n",
        "\n",
        "- So, the `user_id` whose get double promo are 1 user, that is user 4"
      ]
    },
    {
      "cell_type": "markdown",
      "metadata": {
        "id": "vEo-2aqdG8Pd"
      },
      "source": [
        "---\n",
        "**Detail input & output**\n",
        "\n",
        "There are three input:\n",
        "- `user_id`, a list\n",
        "- `promo_A_status`, a list\n",
        "- `promo_B_status`, a list\n",
        "\n",
        "There is a single output:\n",
        "- `int`"
      ]
    },
    {
      "cell_type": "markdown",
      "metadata": {
        "id": "uEvK7MaKG8Pe"
      },
      "source": [
        "---\n",
        "**Input 1**\n",
        "\n",
        "```python\n",
        "user_id = [1, 2, 3, 4, 5]\n",
        "promo_A_status = [1, 0, 1, 1, 0]\n",
        "promo_B_status = [0, 0, 1, 1, 1]\n",
        "```"
      ]
    },
    {
      "cell_type": "markdown",
      "metadata": {
        "id": "PXREvNm9G8Pf"
      },
      "source": [
        "**Output - 1**\n",
        "```\n",
        "Number of user with double promo: 2\n",
        "```"
      ]
    },
    {
      "cell_type": "markdown",
      "metadata": {
        "id": "PKYSd19CG8Pf"
      },
      "source": [
        "---\n",
        "**Input 2**\n",
        "\n",
        "```python\n",
        "user_id = [11, 21, 34, 49, 51]\n",
        "promo_A_status = [1, 1, 0, 1, 0]\n",
        "promo_B_status = [0, 0, 0, 0, 1]\n",
        "```"
      ]
    },
    {
      "cell_type": "markdown",
      "metadata": {
        "id": "e-p8i00SG8Pg"
      },
      "source": [
        "**Output - 2**\n",
        "```\n",
        "Number of user with double promo: 0\n",
        "```"
      ]
    },
    {
      "cell_type": "markdown",
      "metadata": {
        "id": "gBGxpAtzG8Pg"
      },
      "source": [
        "**Questions 1**\n",
        "\n",
        "---\n",
        "Provide the code for solving the problem"
      ]
    },
    {
      "cell_type": "code",
      "execution_count": 4,
      "metadata": {
        "colab": {
          "base_uri": "https://localhost:8080/"
        },
        "id": "YBvgO1y4G8Ph",
        "outputId": "f55d9667-eabf-494d-e3cc-ec48afeb1899"
      },
      "outputs": [
        {
          "name": "stdout",
          "output_type": "stream",
          "text": [
            "Number of user with double promo: 2\n"
          ]
        }
      ],
      "source": [
        "# Write your code here\n",
        "# Note: You can write your input manually\n",
        "user_id = [1, 2, 3, 4, 5]\n",
        "promo_A_status = [1, 0, 1, 1, 0]\n",
        "promo_B_status = [0, 0, 1, 1, 1]\n",
        "\n",
        "count = 0\n",
        "for i in range(len(user_id)):\n",
        "    if promo_A_status[i] == 1 and promo_B_status[i] == 1:\n",
        "        count += 1\n",
        "\n",
        "print(\"Number of user with double promo: {}\".format(count))\n"
      ]
    },
    {
      "cell_type": "markdown",
      "metadata": {
        "id": "HBpPiNIxd7os"
      },
      "source": [
        "# Task 2. Find a Double Promo User - Continued\n",
        "\n",
        "Category: Medium\n",
        "\n",
        "---"
      ]
    },
    {
      "cell_type": "markdown",
      "metadata": {
        "id": "2t4h6o_Kd7ou"
      },
      "source": [
        "**Task Descriptions**\n",
        "- Given lists of `user_id`, `promo_A_status`, `promo_B_status`\n",
        "- Your task is to find which `user_id` get double promo (promo A and B)"
      ]
    },
    {
      "cell_type": "markdown",
      "metadata": {
        "id": "Un7YVLQPFCi5"
      },
      "source": [
        "Example\n",
        "- `user_id = [3, 4, 5]`\n",
        "- `promo_A_status = [0, 1, 1]`\n",
        "  - This means, `user_id` 4 and 5 get promo A\n",
        "\n",
        "- `promo_B_status = [1, 1, 0]`\n",
        "  - This means, `user_id` 3 and 4 get promo B\n",
        "\n",
        "- So, the `user_id` whose get double promo are `[4]`"
      ]
    },
    {
      "cell_type": "markdown",
      "metadata": {
        "id": "j860MLyGECzr"
      },
      "source": [
        "---\n",
        "**Detail input & output**\n",
        "\n",
        "There are three input:\n",
        "- `user_id`, a list\n",
        "- `promo_A_status`, a list\n",
        "- `promo_B_status`, a list\n",
        "\n",
        "There is a single output:\n",
        "- a list of `user_id` with double promo"
      ]
    },
    {
      "cell_type": "markdown",
      "metadata": {
        "id": "SXFeDQkLd7ow"
      },
      "source": [
        "---\n",
        "**Input 1**\n",
        "\n",
        "```python\n",
        "user_id = [1, 2, 3, 4, 5]\n",
        "promo_A_status = [1, 0, 1, 1, 0]\n",
        "promo_B_status = [0, 0, 1, 1, 1]\n",
        "```"
      ]
    },
    {
      "cell_type": "markdown",
      "metadata": {
        "id": "sHSt4LBEd7ox"
      },
      "source": [
        "**Output - 1**\n",
        "```\n",
        "user_id with double promo: [3, 4]\n",
        "```"
      ]
    },
    {
      "cell_type": "markdown",
      "metadata": {
        "id": "xu4cr_vmEwC8"
      },
      "source": [
        "---\n",
        "**Input 2**\n",
        "\n",
        "```python\n",
        "user_id = [11, 21, 34, 49, 51]\n",
        "promo_A_status = [1, 1, 0, 1, 0]\n",
        "promo_B_status = [0, 0, 0, 0, 1]\n",
        "```"
      ]
    },
    {
      "cell_type": "markdown",
      "metadata": {
        "id": "t3S7YYkjEwDh"
      },
      "source": [
        "**Output - 2**\n",
        "```\n",
        "user_id with double promo: []\n",
        "```"
      ]
    },
    {
      "cell_type": "markdown",
      "metadata": {
        "id": "MZQqVz_wFlVR"
      },
      "source": [
        "**Questions 1**\n",
        "\n",
        "---\n",
        "Provide the code for solving the problem"
      ]
    },
    {
      "cell_type": "code",
      "execution_count": 7,
      "metadata": {
        "id": "WKfZRoC5FlVb"
      },
      "outputs": [
        {
          "name": "stdout",
          "output_type": "stream",
          "text": [
            "user_id with double promo: [3, 4]\n"
          ]
        }
      ],
      "source": [
        "# Write your code here\n",
        "# Note: You can write your input manually\n",
        "user_id = [1, 2, 3, 4, 5]\n",
        "promo_A_status = [1, 0, 1, 1, 0]\n",
        "promo_B_status = [0, 0, 1, 1, 1]\n",
        "\n",
        "is_double = []\n",
        "for i in range(len(user_id)):\n",
        "    if promo_A_status[i] == 1 and promo_B_status[i] == 1:\n",
        "        is_double.append(user_id[i])\n",
        "\n",
        "print(\"user_id with double promo: {}\".format(is_double))"
      ]
    },
    {
      "cell_type": "markdown",
      "metadata": {
        "id": "oMGlSKoCfuy-"
      },
      "source": [
        "# Task 3. Calculate number of gender in a data\n",
        "\n",
        "Category: Medium\n",
        "\n",
        "---"
      ]
    },
    {
      "cell_type": "markdown",
      "metadata": {
        "id": "zA6xNheyfuzA"
      },
      "source": [
        "**Task Descriptions**\n",
        "- Given a list of gender, your task is to extract the number people in each gender and return it as a dictionary.\n",
        "\n",
        "Example\n",
        "- `a = ['male', 'female', 'male', 'female', 'female']`\n",
        "- So there are 2 males & 3 females\n",
        "- Thus our output would be `{'male': 2, 'female': 3}`"
      ]
    },
    {
      "cell_type": "markdown",
      "metadata": {
        "id": "_49cXcNALgQu"
      },
      "source": [
        "---\n",
        "**Detail input & output**\n",
        "\n",
        "- input: `a`, list of gender\n",
        "- output: `dict`"
      ]
    },
    {
      "cell_type": "markdown",
      "metadata": {
        "id": "mAxaxYujfuzD"
      },
      "source": [
        "---\n",
        "**Input - 1**\n",
        "\n",
        "```python\n",
        "a = ['male', 'female', 'female', 'male']\n",
        "```"
      ]
    },
    {
      "cell_type": "markdown",
      "metadata": {
        "id": "S89bi74tfuzE"
      },
      "source": [
        "**Output**\n",
        "```python\n",
        "{'male': 2, 'female': 2}\n",
        "```"
      ]
    },
    {
      "cell_type": "markdown",
      "metadata": {
        "id": "jjlTB8WCL4-R"
      },
      "source": [
        "---\n",
        "**Input - 2**\n",
        "\n",
        "```python\n",
        "a = ['female', 'female', 'female', 'female']\n",
        "```"
      ]
    },
    {
      "cell_type": "markdown",
      "metadata": {
        "id": "Ge1lVkoML4-_"
      },
      "source": [
        "**Output**\n",
        "```python\n",
        "{'male': 0, 'female': 4}\n",
        "```"
      ]
    },
    {
      "cell_type": "markdown",
      "metadata": {
        "id": "sQIvVCy3L_6P"
      },
      "source": [
        "**Questions 1**\n",
        "\n",
        "---\n",
        "Provide the code for solving the problem"
      ]
    },
    {
      "cell_type": "code",
      "execution_count": 9,
      "metadata": {
        "id": "w1W-tjIML_6R"
      },
      "outputs": [
        {
          "name": "stdout",
          "output_type": "stream",
          "text": [
            "{'male': 2, 'female': 2}\n"
          ]
        }
      ],
      "source": [
        "# Write your code here\n",
        "# Note: You can write your input manually\n",
        "a = ['male', 'female', 'female', 'male']\n",
        "\n",
        "female_count = 0\n",
        "male_count = 0\n",
        "\n",
        "for gender in a:\n",
        "    if gender == 'female':\n",
        "        female_count += 1\n",
        "    else:\n",
        "        male_count += 1\n",
        "\n",
        "gender_count = {\n",
        "    'male' : male_count,\n",
        "    'female' : female_count\n",
        "}\n",
        "\n",
        "print(gender_count)"
      ]
    },
    {
      "cell_type": "markdown",
      "metadata": {
        "id": "xsUAqsjvIBVH"
      },
      "source": [
        "# Task 4. Fibonacci Prime\n",
        "\n",
        "Category: Medium\n",
        "\n",
        "---"
      ]
    },
    {
      "cell_type": "markdown",
      "metadata": {
        "id": "umey3GqiIBVK"
      },
      "source": [
        "## Task Descriptions\n",
        "---\n",
        "- Create a function to find the first `n` Fibonacci Prime Number."
      ]
    },
    {
      "cell_type": "markdown",
      "metadata": {
        "id": "0_ax_ZPM398v"
      },
      "source": [
        "**Fibonacci number**\n",
        "- Fibonacci number is a number that follows this sequence\n",
        "\n",
        "$$\n",
        "n_{i} = n_{i-1} + n_{i-2}\n",
        "$$"
      ]
    },
    {
      "cell_type": "markdown",
      "metadata": {
        "id": "kwWpm7zp4Cx4"
      },
      "source": [
        "- with $n_{1}=1$ and $n_{2}=1$\n",
        "- So, the first 10 Fibonacci number is\n",
        "\n",
        "$$\n",
        "1, 1, 2, 3, 5, 8, 13, 21, 34, 55\n",
        "$$"
      ]
    },
    {
      "cell_type": "markdown",
      "metadata": {
        "id": "z-x0d-cx4SbE"
      },
      "source": [
        "**Prime number**\n",
        "- A prime number is a number which only have 2 divisors, that is $1$ and the number itself.\n",
        "- Example\n",
        "  - $2$ is a prime number. Divisors of $2$ are $1$ and $2$\n",
        "  - $10$ is **not** a prime number. Divisors of $10$ are $1$, $2$, $5$, and $10$.\n",
        "  - $13$ is a prime number. Divisors of $13$ are $1$ and $13$"
      ]
    },
    {
      "cell_type": "markdown",
      "metadata": {
        "id": "_EeYAzGD4sCG"
      },
      "source": [
        "## Detail function\n",
        "---"
      ]
    },
    {
      "cell_type": "markdown",
      "metadata": {
        "id": "jHWrNQO_4zos"
      },
      "source": [
        "- Create a function named `fibonacci_prime` with\n",
        "  - Input `n` (integer)\n",
        "  - Output `numbers` (list), contains the first `n` Fibonacci prime number"
      ]
    },
    {
      "cell_type": "markdown",
      "metadata": {
        "id": "XXX4U4eA5RgM"
      },
      "source": [
        "## Examples\n",
        "---"
      ]
    },
    {
      "cell_type": "markdown",
      "metadata": {
        "id": "X6-yzPcg6m5T"
      },
      "source": [
        "**Input 1**\n",
        "\n",
        "```python\n",
        "# Input\n",
        "res = fibonacci_prime(n = 5)\n",
        "print(res)\n",
        "```\n",
        "\n",
        "**Output 1**\n",
        "```python\n",
        "[2, 3, 5, 13, 89]\n",
        "```"
      ]
    },
    {
      "cell_type": "markdown",
      "metadata": {
        "id": "jYhlUltJ6-7P"
      },
      "source": [
        "**Input 2**\n",
        "\n",
        "```python\n",
        "# Input\n",
        "res = fibonacci_prime(n = 10)\n",
        "print(res)\n",
        "```\n",
        "\n",
        "**Output 2**\n",
        "```python\n",
        "[2, 3, 5, 13, 89, 233, 1597, 28657, 514229, 433494437]\n",
        "```"
      ]
    },
    {
      "cell_type": "markdown",
      "metadata": {
        "id": "5bdXSNiOIBVW"
      },
      "source": [
        "## Answer\n",
        "\n",
        "---\n",
        "- Provide the code for solving the problem\n",
        "- **Make sure your function follows the `Detail Function`**"
      ]
    },
    {
      "cell_type": "code",
      "execution_count": 99,
      "metadata": {
        "id": "ef5DHr8rIBVX"
      },
      "outputs": [
        {
          "name": "stdout",
          "output_type": "stream",
          "text": [
            "[2, 3, 5, 13, 89, 233, 1597, 28657, 514229, 433494437]\n"
          ]
        }
      ],
      "source": [
        "# Write your code here\n",
        "# Note: You can write your input manually\n",
        "def fibonacci_prime(n):\n",
        "\n",
        "    def generate_fibonaccy(limit):\n",
        "        \"\"\"Function to generate fibonacci numbers\n",
        "            Parameter \n",
        "                limit (int) : number for limiting the number of fibonnaci generated\n",
        "            Return \n",
        "                fibo_num : list contains fibonacci numbers \"\"\"\n",
        "        fibo_num = [1,1]\n",
        "        while len(fibo_num) < limit:\n",
        "            fibo_num.append(fibo_num[-2] + fibo_num[-1])\n",
        "        return fibo_num\n",
        "    \n",
        "    def is_prime(num):\n",
        "        \"\"\"Function to check the number, whether it's prime or not\n",
        "            Parameter \n",
        "                num (int) : the number to checked\n",
        "            Return \n",
        "                True or False \"\"\"\n",
        "        if num <= 1:\n",
        "            return False\n",
        "        else:\n",
        "            for i in range(2, int(num**0.5)+1):\n",
        "                if num % i == 0:\n",
        "                    return False\n",
        "            return True\n",
        "    \n",
        "    fibonacci_prime = []\n",
        "    fibonacci_nums = generate_fibonaccy(n*100)\n",
        "\n",
        "    for num in fibonacci_nums:\n",
        "        if is_prime(num):\n",
        "            fibonacci_prime.append(num)\n",
        "        if len(fibonacci_prime) == n:\n",
        "            break # break the loop if the length of the fibonacci_prime list is the same as the number\n",
        "    \n",
        "    return fibonacci_prime\n",
        "\n",
        "res = fibonacci_prime(10)\n",
        "print(res)"
      ]
    },
    {
      "cell_type": "markdown",
      "metadata": {
        "id": "t8m0jPoOizGH"
      },
      "source": []
    },
    {
      "cell_type": "markdown",
      "metadata": {
        "id": "1Lvmi7SKAR2A"
      },
      "source": [
        "# Task 5. Accuracy Metrics in Classifications\n",
        "\n",
        "Category: Medium\n",
        "\n",
        "---"
      ]
    },
    {
      "cell_type": "markdown",
      "metadata": {
        "id": "KOrJ-tmbAR2X"
      },
      "source": [
        "## Task Descriptions\n",
        "---\n",
        "- Create a **lambda** function to calculate the accuracy of given prediction"
      ]
    },
    {
      "cell_type": "markdown",
      "metadata": {
        "id": "5oeDx6NCAR2X"
      },
      "source": [
        "**Accuracy**\n",
        "- You can use accuracy metrics to measure classification model performance.\n",
        "- Given a below data\n",
        "\n",
        "<center>\n",
        "\n",
        "|Real Value|Predicted Value|Status|\n",
        "|:--:|:--:|:--:|\n",
        "|1|0|**False** prediction|\n",
        "|1|1|Correct prediction|\n",
        "|0|0|Correct prediction|\n",
        "|0|1|**False** prediction|\n",
        "|1|1|Correct prediction|\n",
        "|1|1|Correct prediction|\n",
        "|0|0|Correct prediction|\n",
        "|1|1|Correct prediction|\n",
        "\n",
        "</center>\n",
        "\n",
        "- If you predict `0` and the real value is `0`, you predict correctly\n",
        "- If you predict `1` and the real value is `1`, you predict correctly\n",
        "- If you predict `0` while the real value is `1`, you mispredict it.\n",
        "- If you predict `1` while the real value is `0`, you also mispredict it."
      ]
    },
    {
      "cell_type": "markdown",
      "metadata": {
        "id": "NK8py0H9A-JI"
      },
      "source": [
        "- How to calculate accuracy?\n",
        "\n",
        "$$\n",
        "\\text{accuracy}\n",
        "=\n",
        "\\cfrac\n",
        "{\\text{number of correct}}\n",
        "{\\text{number of all data}}\n",
        "$$\n",
        "\n",
        "- So, based on the above table\n",
        "\n",
        "$$\n",
        "\\begin{align*}\n",
        "\\text{accuracy}\n",
        "&=\n",
        "\\cfrac\n",
        "{\\text{number of correct prediction}}\n",
        "{\\text{number of all data}} \\\\\n",
        "&=\n",
        "\\cfrac\n",
        "{6}\n",
        "{8} \\\\\n",
        "\\text{accuracy}\n",
        "&=\n",
        "0.75\n",
        "\\end{align*}\n",
        "$$"
      ]
    },
    {
      "cell_type": "markdown",
      "metadata": {
        "id": "fTGn2luKAR2Y"
      },
      "source": [
        "## Detail function\n",
        "---"
      ]
    },
    {
      "cell_type": "markdown",
      "metadata": {
        "id": "tEaLWiIZAR2Y"
      },
      "source": [
        "- Create a **lambda** function named `calculate_accuracy` with\n",
        "  - Input\n",
        "    - `y_actual` (list), contains the true value\n",
        "    - `y_predicted` (list), contains the predicted value\n",
        "  - Output `accuracy` (float), contains the accuracy metrics"
      ]
    },
    {
      "cell_type": "markdown",
      "metadata": {
        "id": "k7TYvpqPAR2Z"
      },
      "source": [
        "## Examples\n",
        "---"
      ]
    },
    {
      "cell_type": "markdown",
      "metadata": {
        "id": "xBisqn3HAR2Z"
      },
      "source": [
        "**Input 1**\n",
        "\n",
        "```python\n",
        "# Input\n",
        "y_actual = [1, 1, 0, 0, 1, 1, 0, 1]\n",
        "y_predicted = [0, 1, 0, 1, 1, 1, 0, 1]\n",
        "\n",
        "res = calculate_accuracy(y_actual, y_predicted)\n",
        "print(res)\n",
        "```\n",
        "\n",
        "**Output 1**\n",
        "```python\n",
        "0.75\n",
        "```"
      ]
    },
    {
      "cell_type": "markdown",
      "metadata": {
        "id": "mQnbYJYlAR2Z"
      },
      "source": [
        "**Input 2**\n",
        "\n",
        "```python\n",
        "# Input\n",
        "y_actual = [1, 1, -1, -1, 1, 1, -1, 1, -1, -1]\n",
        "y_predicted = [-1, 1, -1, -1, -1, 1, -1, 1, -1, 1]\n",
        "\n",
        "res = calculate_accuracy(y_actual, y_predicted)\n",
        "print(res)\n",
        "```\n",
        "\n",
        "**Output 2**\n",
        "```python\n",
        "0.7\n",
        "```"
      ]
    },
    {
      "cell_type": "markdown",
      "metadata": {
        "id": "2ifQ4p2BAR2Z"
      },
      "source": [
        "## Answer\n",
        "\n",
        "---\n",
        "- Provide the code for solving the problem\n",
        "- **Make sure your function follows the `Detail Function`**"
      ]
    },
    {
      "cell_type": "code",
      "execution_count": 103,
      "metadata": {
        "id": "QqG_g8VWAR2a"
      },
      "outputs": [
        {
          "name": "stdout",
          "output_type": "stream",
          "text": [
            "0.7\n"
          ]
        }
      ],
      "source": [
        "# Write your code here\n",
        "# Note: You can write your input manually\n",
        "calculate_accuracy = lambda actual, predicted: sum(True for a, p in zip(actual, predicted) if a == p) / len(actual)\n",
        "\n",
        "y_actual = [1, 1, -1, -1, 1, 1, -1, 1, -1, -1]\n",
        "y_predicted = [-1, 1, -1, -1, -1, 1, -1, 1, -1, 1]\n",
        "\n",
        "res = calculate_accuracy(y_actual, y_predicted)\n",
        "print(res)"
      ]
    },
    {
      "cell_type": "markdown",
      "metadata": {
        "id": "EOdMk1QDDWhA"
      },
      "source": [
        "# Task 6. Get the user churn\n",
        "\n",
        "Category: Medium\n",
        "\n",
        "---"
      ]
    },
    {
      "cell_type": "markdown",
      "metadata": {
        "id": "rw6bdBFrDWhh"
      },
      "source": [
        "## Task Descriptions\n",
        "---\n",
        "- Given a userID and its subscription status, create a function to determine the number of churned (unsubscribed user) on a specific month"
      ]
    },
    {
      "cell_type": "markdown",
      "metadata": {
        "id": "2uzF4trnDWhi"
      },
      "source": [
        "**How this works**\n",
        "- Given a set of userID and subscription status\n",
        "\n",
        "```python\n",
        "# [userId, subscribe until...]\n",
        "user_data_2019 = [\n",
        "    ['123db', 'November'],\n",
        "    ['940cj', 'January'],\n",
        "    ['859do', 'March'],\n",
        "    ['948wp', 'August'],\n",
        "    ['482po', 'August'],\n",
        "    ['742bh', 'November']\n",
        "]\n",
        "```"
      ]
    },
    {
      "cell_type": "markdown",
      "metadata": {
        "id": "qu1XQk-RK5dD"
      },
      "source": [
        "- Say, we want to see the number of user churned (unsubscribed) on **March**\n",
        "  - Only user `940cj` that does not have subscription renewal until **March**\n",
        "  - So, the number of churned user is 1\n",
        "\n",
        "- Say, we want to see the number of user churned (unsubscribed) on **August**,\n",
        "  - Users `['940cj', '859do']` subscribtions end before august.\n",
        "  - Thus, the number of churned user is 2"
      ]
    },
    {
      "cell_type": "markdown",
      "metadata": {
        "id": "0DgsGgpoDWhj"
      },
      "source": [
        "## Detail function\n",
        "---"
      ]
    },
    {
      "cell_type": "markdown",
      "metadata": {
        "id": "wAKdUFoSDWhj"
      },
      "source": [
        "- Create a function named `calculate_churned` with\n",
        "  - Input\n",
        "    - `user_data` (list), contains the userId and subscribe until ...\n",
        "    - `month` (str), in english, contains month to determine the churned user\n",
        "  - Output `churned` (int), contains the number of churned user before `month`"
      ]
    },
    {
      "cell_type": "markdown",
      "metadata": {
        "id": "DjCgn0N5DWhj"
      },
      "source": [
        "## Examples\n",
        "---"
      ]
    },
    {
      "cell_type": "markdown",
      "metadata": {
        "id": "ha0pxFfbkV_Q"
      },
      "source": [
        "user_data = [['123', 'March'], ['124', 'Februari'], ['125', 'January']]"
      ]
    },
    {
      "cell_type": "markdown",
      "metadata": {
        "id": "L8Dx5aboDWhk"
      },
      "source": [
        "**Input 1**\n",
        "\n",
        "```python\n",
        "# Input\n",
        "user_data_2021 = [\n",
        "    ['5105', 'August'],\n",
        "    ['8806', 'August'],\n",
        "    ['1008', 'December'],\n",
        "    ['2655', 'October'],\n",
        "    ['5645', 'January'],\n",
        "    ['3660', 'February'],\n",
        "    ['1655', 'July'],\n",
        "    ['5772', 'January'],\n",
        "    ['4361', 'January'],\n",
        "    ['9155', 'March'],\n",
        "    ['7689', 'April'],\n",
        "    ['6967', 'December'],\n",
        "    ['6358', 'June'],\n",
        "    ['2075', 'September'],\n",
        "    ['9280', 'March'],\n",
        "    ['2815', 'December'],\n",
        "    ['7743', 'August'],\n",
        "    ['1087', 'February'],\n",
        "    ['9691', 'October'],\n",
        "    ['3397', 'June']\n",
        "]\n",
        "\n",
        "res = calculate_churned(user_data = user_data_2021,\n",
        "                        month = 'October')\n",
        "print(res)\n",
        "```\n",
        "\n",
        "**Output 1**\n",
        "```python\n",
        "15\n",
        "```"
      ]
    },
    {
      "cell_type": "markdown",
      "metadata": {
        "id": "eVQBZZbdPJBQ"
      },
      "source": [
        "**Input 1**\n",
        "\n",
        "```python\n",
        "# Input\n",
        "user_data_2022 = [\n",
        "    ['2062', 'February'],\n",
        "    ['5679', 'October'],\n",
        "    ['4690', 'September'],\n",
        "    ['8748', 'March'],\n",
        "    ['8318', 'December'],\n",
        "    ['7814', 'February'],\n",
        "    ['9850', 'November'],\n",
        "    ['2154', 'September'],\n",
        "    ['7767', 'October'],\n",
        "    ['3755', 'January'],\n",
        "    ['3117', 'March'],\n",
        "    ['4197', 'December'],\n",
        "    ['7276', 'December'],\n",
        "    ['3387', 'May'],\n",
        "    ['2160', 'November'],\n",
        "    ['9626', 'October'],\n",
        "    ['5430', 'July'],\n",
        "    ['7055', 'January'],\n",
        "    ['7838', 'July'],\n",
        "    ['8991', 'May'],\n",
        "    ['6238', 'September'],\n",
        "    ['8033', 'October'],\n",
        "    ['8711', 'January'],\n",
        "    ['9999', 'December'],\n",
        "    ['9980', 'May'],\n",
        "    ['8282', 'September'],\n",
        "    ['1508', 'March'],\n",
        "    ['9899', 'January'],\n",
        "    ['4745', 'October'],\n",
        "    ['9615', 'August'],\n",
        "    ['8526', 'July'],\n",
        "    ['8736', 'January'],\n",
        "    ['6244', 'December'],\n",
        "    ['8319', 'August'],\n",
        "    ['1415', 'April'],\n",
        "    ['3413', 'March'],\n",
        "    ['1683', 'January'],\n",
        "    ['8825', 'November'],\n",
        "    ['6098', 'August'],\n",
        "    ['2627', 'February']\n",
        "]\n",
        "\n",
        "res = calculate_churned(user_data = user_data_2022,\n",
        "                        month = 'August')\n",
        "print(res)\n",
        "```\n",
        "\n",
        "**Output 1**\n",
        "```python\n",
        "20\n",
        "```"
      ]
    },
    {
      "cell_type": "markdown",
      "metadata": {
        "id": "utpLqcoTDWhl"
      },
      "source": [
        "## Answer\n",
        "\n",
        "---\n",
        "- Provide the code for solving the problem\n",
        "- **Make sure your function follows the `Detail Function`**"
      ]
    },
    {
      "cell_type": "code",
      "execution_count": 148,
      "metadata": {
        "id": "2cMCngmBDWhl"
      },
      "outputs": [],
      "source": [
        "# Write your code here\n",
        "# Note: You can write your input manually\n",
        "def calculate_churned(user_data, month):\n",
        "    \n",
        "    def convert_month(month):\n",
        "\n",
        "        match month:\n",
        "            case 'January':\n",
        "                month = 1\n",
        "            case 'February':\n",
        "                month = 2\n",
        "            case 'March':\n",
        "                month = 3\n",
        "            case 'April':\n",
        "                month = 4\n",
        "            case 'May':\n",
        "                month = 5\n",
        "            case 'June':\n",
        "                month = 6\n",
        "            case 'July':\n",
        "                month = 7\n",
        "            case 'August':\n",
        "                month = 8\n",
        "            case 'September':\n",
        "                month = 9\n",
        "            case 'October':\n",
        "                month = 10\n",
        "            case 'November':\n",
        "                month = 11\n",
        "            case 'December':\n",
        "                month = 12\n",
        "        \n",
        "        return month\n",
        "        \n",
        "    month_converted = convert_month(month)\n",
        "\n",
        "    count = 0\n",
        "    for i in range(len(user_data)):\n",
        "        month_check = convert_month(user_data[i][1]) \n",
        "        if month_check < month_converted:\n",
        "            count += 1\n",
        "    \n",
        "    return count"
      ]
    },
    {
      "cell_type": "code",
      "execution_count": 149,
      "metadata": {
        "id": "rHeSkimZA6jW"
      },
      "outputs": [
        {
          "name": "stdout",
          "output_type": "stream",
          "text": [
            "15\n"
          ]
        }
      ],
      "source": [
        "user_data_2021 = [\n",
        "    ['5105', 'August'],\n",
        "    ['8806', 'August'],\n",
        "    ['1008', 'December'],\n",
        "    ['2655', 'October'],\n",
        "    ['5645', 'January'],\n",
        "    ['3660', 'February'],\n",
        "    ['1655', 'July'],\n",
        "    ['5772', 'January'],\n",
        "    ['4361', 'January'],\n",
        "    ['9155', 'March'],\n",
        "    ['7689', 'April'],\n",
        "    ['6967', 'December'],\n",
        "    ['6358', 'June'],\n",
        "    ['2075', 'September'],\n",
        "    ['9280', 'March'],\n",
        "    ['2815', 'December'],\n",
        "    ['7743', 'August'],\n",
        "    ['1087', 'February'],\n",
        "    ['9691', 'October'],\n",
        "    ['3397', 'June']\n",
        "]\n",
        "\n",
        "res = calculate_churned(user_data = user_data_2021,\n",
        "                        month = 'October')\n",
        "print(res)"
      ]
    },
    {
      "cell_type": "markdown",
      "metadata": {
        "id": "11jrU358T3Gk"
      },
      "source": [
        "# Task 7. Count Alphabet"
      ]
    },
    {
      "cell_type": "markdown",
      "metadata": {
        "id": "x1N8mFgtGaD5"
      },
      "source": [
        "**Task Descriptions**\n",
        "\n",
        "- Given an `input_text`\n",
        "- Your tasks are to calculate how many characters that upper case, lower case, and numeric inside the `input_text`\n",
        "- You must also count how many characters in the input\n",
        "- But there are some requirements in this task, your `input_text` must be in the correct format like there must be a whitespace inside the string.\n",
        "- If the requirements are not met, it will print a message **`\"Not a Valid Text\"`**"
      ]
    },
    {
      "cell_type": "markdown",
      "metadata": {
        "id": "Gkg3OZx_IGl3"
      },
      "source": [
        "**Input - 1**\n",
        "\n",
        "```py\n",
        "count_alphabet(\"Komm, süsser Tod\")\n",
        "```"
      ]
    },
    {
      "cell_type": "markdown",
      "metadata": {
        "id": "51R3WdcVIXz5"
      },
      "source": [
        "**Output - 1**\n",
        "\n",
        "```py\n",
        "Total Character: 13\n",
        "Count Upper Case: 2, Count Lower Case: 11, Count Digit: 0\n",
        "```"
      ]
    },
    {
      "cell_type": "markdown",
      "metadata": {
        "id": "ILG-3A8tI1F8"
      },
      "source": [
        "**Input - 2**\n",
        "\n",
        "```py\n",
        "count_alphabet(\"Kode Pos dari Pasar Minggu adalah 12560\")\n",
        "```"
      ]
    },
    {
      "cell_type": "markdown",
      "metadata": {
        "id": "vbCFkZHEI4yc"
      },
      "source": [
        "**Output - 2**\n",
        "\n",
        "```py\n",
        "Total Character: 33\n",
        "Count Upper Case: 4, Count Lower Case: 24, Count Digit: 5\n",
        "```"
      ]
    },
    {
      "cell_type": "markdown",
      "metadata": {
        "id": "PUSPMtC9I-59"
      },
      "source": [
        "**Input - 3**\n",
        "\n",
        "```py\n",
        "count_alphabet(\"BesokKitaPergiMakan\")\n",
        "```"
      ]
    },
    {
      "cell_type": "markdown",
      "metadata": {
        "id": "MXcm91ymJSm6"
      },
      "source": [
        "**Output - 3**\n",
        "\n",
        "```py\n",
        "Not a Valid Text\n",
        "```"
      ]
    },
    {
      "cell_type": "code",
      "execution_count": 185,
      "metadata": {
        "id": "NTgm_usRmdz2"
      },
      "outputs": [],
      "source": [
        "import string \n",
        "\n",
        "def count_alphabet(input_text):\n",
        "    ## Write code here\n",
        "    upper = 0\n",
        "    digit = 0\n",
        "    lower = 0\n",
        "    if \" \" in input_text:\n",
        "        input_text = input_text.translate(str.maketrans('', '', string.punctuation))\n",
        "        input_text = input_text.replace(\" \", \"\")\n",
        "        print('Total Character: {}'.format(len(input_text)))\n",
        "        for char in input_text:\n",
        "            if char.isdigit():\n",
        "                digit += 1\n",
        "            elif char == char.upper():\n",
        "                upper += 1\n",
        "            elif char == char.lower():\n",
        "                lower += 1\n",
        "        print(f\"Count Upper Case: {upper}, Count Lower Case: {lower}, Count Digit: {digit}\")\n",
        "    else:\n",
        "        print(\"Not a Valid Text\")"
      ]
    },
    {
      "cell_type": "code",
      "execution_count": 186,
      "metadata": {
        "colab": {
          "base_uri": "https://localhost:8080/"
        },
        "id": "cIaJYX99mml1",
        "outputId": "da6095a4-3a0f-4325-a0c6-dccc396934eb"
      },
      "outputs": [
        {
          "name": "stdout",
          "output_type": "stream",
          "text": [
            "Total Character: 33\n",
            "Count Upper Case: 4, Count Lower Case: 24, Count Digit: 5\n"
          ]
        }
      ],
      "source": [
        "count_alphabet(\"Kode Pos dari Pasar Minggu adalah 12560\")"
      ]
    },
    {
      "cell_type": "code",
      "execution_count": 187,
      "metadata": {},
      "outputs": [
        {
          "name": "stdout",
          "output_type": "stream",
          "text": [
            "Not a Valid Text\n"
          ]
        }
      ],
      "source": [
        "count_alphabet(\"BesokKitaPergiMakan\")"
      ]
    },
    {
      "cell_type": "code",
      "execution_count": 188,
      "metadata": {},
      "outputs": [
        {
          "name": "stdout",
          "output_type": "stream",
          "text": [
            "Total Character: 13\n",
            "Count Upper Case: 2, Count Lower Case: 11, Count Digit: 0\n"
          ]
        }
      ],
      "source": [
        "count_alphabet(\"Komm, süsser Tod\")"
      ]
    },
    {
      "cell_type": "code",
      "execution_count": null,
      "metadata": {},
      "outputs": [],
      "source": [
        "-- highest_donation_assignments\n",
        "WITH sum_total AS(\n",
        "\tSELECT assignment_id, donor_type, \n",
        "\t\t\tSUM(amount) AS total_amount\n",
        "\tFROM donations\n",
        "\tINNER JOIN donors\n",
        "\tUSING(donor_id)\n",
        "\tGROUP BY assignment_id, donor_type\n",
        ")\n",
        "\n",
        "SELECT assignment_name, \n",
        "\t\tregion, \n",
        "\t\tROUND(total_amount,2) AS rounded_total_donation_amount,\n",
        "\t\tdonor_type\n",
        "FROM assignments\n",
        "INNER JOIN sum_total\n",
        "USING(assignment_id)\n",
        "ORDER BY rounded_total_donation_amount DESC\n",
        "LIMIT 5;"
      ]
    },
    {
      "cell_type": "code",
      "execution_count": null,
      "metadata": {},
      "outputs": [],
      "source": [
        "WITH donation_details AS (\n",
        "    SELECT\n",
        "        d.assignment_id,\n",
        "        ROUND(SUM(d.amount), 2) AS rounded_total_donation_amount,\n",
        "        dn.donor_type\n",
        "    FROM\n",
        "        donations d\n",
        "    JOIN donors dn ON d.donor_id = dn.donor_id\n",
        "    GROUP BY\n",
        "        d.assignment_id, dn.donor_type\n",
        ")\n",
        "SELECT\n",
        "    a.assignment_name,\n",
        "    a.region,\n",
        "    dd.rounded_total_donation_amount,\n",
        "    dd.donor_type\n",
        "FROM\n",
        "    assignments a\n",
        "JOIN\n",
        "    donation_details dd ON a.assignment_id = dd.assignment_id\n",
        "ORDER BY\n",
        "    dd.rounded_total_donation_amount DESC\n",
        "LIMIT 5;"
      ]
    }
  ],
  "metadata": {
    "colab": {
      "collapsed_sections": [
        "HBpPiNIxd7os",
        "1Lvmi7SKAR2A",
        "EOdMk1QDDWhA",
        "rw6bdBFrDWhh",
        "utpLqcoTDWhl",
        "11jrU358T3Gk"
      ],
      "provenance": []
    },
    "kernelspec": {
      "display_name": "Python 3",
      "name": "python3"
    },
    "language_info": {
      "codemirror_mode": {
        "name": "ipython",
        "version": 3
      },
      "file_extension": ".py",
      "mimetype": "text/x-python",
      "name": "python",
      "nbconvert_exporter": "python",
      "pygments_lexer": "ipython3",
      "version": "3.12.4"
    }
  },
  "nbformat": 4,
  "nbformat_minor": 0
}
