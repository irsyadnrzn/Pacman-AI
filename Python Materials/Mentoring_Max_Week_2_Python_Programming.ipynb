{
  "cells": [
    {
      "cell_type": "markdown",
      "metadata": {
        "id": "oiHKP1fFcQg8"
      },
      "source": [
        "# Week 2 - Python Programming\n",
        "---\n",
        "\n",
        "Mentoring Session - Job Preparation Program - Pacmann AI"
      ]
    },
    {
      "cell_type": "markdown",
      "metadata": {
        "id": "QjkBfBPYQuBp"
      },
      "source": [
        "# Task 1. Calculate Average Sessions"
      ]
    },
    {
      "cell_type": "markdown",
      "metadata": {
        "id": "swuueRxlUZLd"
      },
      "source": [
        "**Task Descriptions**\n",
        "\n",
        "- PacBook is a Social Media platform and they want to know what is their user Average Sessions and Session Duration for each data\n",
        "- Given a three input for `load_time` (in minutes) and `exit_time` (in minutes)\n",
        "\n",
        "- To calculate Session Duration, you can use this formula\n",
        "\n",
        "$$\n",
        "\\text{Session}_\\text{duration} = \\text{exit}_\\text{time} - \\text{load}_\\text{time}\n",
        "$$\n",
        "\n",
        "- To calculate Average Sessions, you can use this formula\n",
        "\n",
        "$$\n",
        "\\text{Average}_\\text{sessions} = \\frac{\\sum_{n=1}^{3}{\\text{Session_duration}_{n}}}{\\text{N_SESSIONS}}\n",
        "$$\n",
        "\n",
        "- But there are some constraints in this task\n",
        "  - If the input for `load_time` and `exit_time` is less than zero or negative values, it will print the result **`\"Not a Valid Input\"`**"
      ]
    },
    {
      "cell_type": "markdown",
      "metadata": {
        "id": "Ik-_m7EQ3fXf"
      },
      "source": [
        "**Input - 1**\n",
        "\n",
        "```py\n",
        "load_time_1 = 5\n",
        "exit_time_1 = 10\n",
        "\n",
        "load_time_2 = 2\n",
        "exit_time_2 = 15.5\n",
        "\n",
        "load_time_3 = 1\n",
        "exit_time_3 = 22.3\n",
        "```"
      ]
    },
    {
      "cell_type": "markdown",
      "metadata": {
        "id": "mHkWLiAE3iMw"
      },
      "source": [
        "**Output - 1**\n",
        "\n",
        "```py\n",
        "Session 1 Duration (in minutes): 5\n",
        "Session 2 Duration (in minutes): 13.5\n",
        "Session 3 Duration (in minutes): 21.3\n",
        "Average Session Duration (in minutes): 13.27\n",
        "```"
      ]
    },
    {
      "cell_type": "markdown",
      "metadata": {
        "id": "5gIubmCR2vfI"
      },
      "source": [
        "**Input - 2**\n",
        "\n",
        "```py\n",
        "load_time_1 = 0\n",
        "exit_time_1 = 0\n",
        "\n",
        "load_time_2 = 0\n",
        "exit_time_2 = 0\n",
        "\n",
        "load_time_3 = 0\n",
        "exit_time_3 = 0\n",
        "```"
      ]
    },
    {
      "cell_type": "markdown",
      "metadata": {
        "id": "ZHXTFNaU232E"
      },
      "source": [
        "**Output - 2**\n",
        "\n",
        "```py\n",
        "Session 1 Duration (in minutes): 0\n",
        "Session 2 Duration (in minutes): 0\n",
        "Session 3 Duration (in minutes): 0\n",
        "Average Session Duration (in minutes): 0\n",
        "```"
      ]
    },
    {
      "cell_type": "markdown",
      "metadata": {
        "id": "O62tQZyJ3pSt"
      },
      "source": [
        "**Input - 3**"
      ]
    },
    {
      "cell_type": "markdown",
      "metadata": {
        "id": "ljEAZIWj5sE8"
      },
      "source": [
        "```py\n",
        "load_time_1 = 3\n",
        "exit_time_1 = 7\n",
        "\n",
        "load_time_2 = -2\n",
        "exit_time_2 = 5\n",
        "\n",
        "load_time_3 = 3\n",
        "exit_time_3 = 156\n",
        "```"
      ]
    },
    {
      "cell_type": "markdown",
      "metadata": {
        "id": "6ivQBiJZ6DBC"
      },
      "source": [
        "**Output - 3**\n",
        "\n",
        "```py\n",
        "Not a Valid Input\n",
        "```"
      ]
    },
    {
      "cell_type": "code",
      "execution_count": 7,
      "metadata": {
        "colab": {
          "base_uri": "https://localhost:8080/"
        },
        "id": "xBjFB0GDQr-Z",
        "outputId": "be17831b-fc94-4658-c952-86d69e2320c7"
      },
      "outputs": [
        {
          "name": "stdout",
          "output_type": "stream",
          "text": [
            "Session 0 Duration (in minutes): 5\n",
            "Session 1 Duration (in minutes): 13.5\n",
            "Session 2 Duration (in minutes): 21.3\n",
            "Average Session Duration (in minutes): 13.27\n"
          ]
        }
      ],
      "source": [
        "# Write your code here\n",
        "load_time_1 = 5\n",
        "exit_time_1 = 10\n",
        "\n",
        "load_time_2 = 2\n",
        "exit_time_2 = 15.5\n",
        "\n",
        "load_time_3 = 1\n",
        "exit_time_3 = 22.3\n",
        "\n",
        "# jawaban\n",
        "session_time_list = []\n",
        "load_time_list = [load_time_1, load_time_2, load_time_3]\n",
        "exit_time_list = [exit_time_1, exit_time_2, exit_time_3]\n",
        "\n",
        "def calc_session(load_time, exit_time):\n",
        "    if exit_time >= 0 and load_time >= 0:\n",
        "        session_time = exit_time - load_time\n",
        "        return session_time\n",
        "    else:\n",
        "        return \"Not a Valid Input\"\n",
        "\n",
        "for i in range(len(load_time_list)):\n",
        "    session_time = calc_session(load_time_list[i], exit_time_list[i])\n",
        "    session_time_list.append(session_time)\n",
        "\n",
        "if 'Not a Valid Input' in session_time_list:\n",
        "    print('Not a Valid Input')\n",
        "else:\n",
        "    average_duration = round(sum(session_time_list)/len(session_time_list),2)\n",
        "    for i, session_time in enumerate(session_time_list):\n",
        "        print(f'Session {i} Duration (in minutes): {session_time}')\n",
        "    if average_duration > 0 :\n",
        "        print(f'Average Session Duration (in minutes): {average_duration}')\n",
        "    elif average_duration == 0 :\n",
        "        print(f'Average Session Duration (in minutes): {int(average_duration)}')"
      ]
    },
    {
      "cell_type": "markdown",
      "metadata": {
        "id": "HBpPiNIxd7os"
      },
      "source": [
        "# Task 2. Temperature Converter Calculator\n",
        "\n",
        "Category: Medium\n",
        "\n",
        "---"
      ]
    },
    {
      "cell_type": "markdown",
      "metadata": {
        "id": "2t4h6o_Kd7ou"
      },
      "source": [
        "**Task Descriptions**\n",
        "- There are several unit of temperatures use by people around the world.\n",
        "  - For general people: Celcius or Fahrenheit\n",
        "  - For academic purposes: Kelvin\n",
        "- Your task is to create a temperature converter calculator.\n",
        "  - Celcius to Kelvin, vice versa\n",
        "  - Fahrenheit to Kelvin, vice versa\n",
        "  - Celcius to Fahrenheit, vice versa\n",
        "- **Addition**: Find how to convert the temperature by yourself."
      ]
    },
    {
      "cell_type": "markdown",
      "metadata": {
        "id": "SXFeDQkLd7ow"
      },
      "source": [
        "**Input**\n",
        "\n",
        "```python\n",
        "temp = 20\n",
        "from_unit = 'Celcius'\n",
        "to_unit = 'Fahrenheit'\n",
        "```"
      ]
    },
    {
      "cell_type": "markdown",
      "metadata": {
        "id": "sHSt4LBEd7ox"
      },
      "source": [
        "**Output**\n",
        "```\n",
        "20 Celcius is equal to 68 Fahrenheit\n",
        "```"
      ]
    },
    {
      "cell_type": "markdown",
      "metadata": {
        "id": "VrI6kmyUfq6H"
      },
      "source": [
        "**Questions 1**\n",
        "\n",
        "---\n",
        "Draw your code flowchart"
      ]
    },
    {
      "cell_type": "markdown",
      "metadata": {
        "id": "jdZDV7Bufq6i"
      },
      "source": [
        "*Insert picture of your flowchart*"
      ]
    },
    {
      "cell_type": "markdown",
      "metadata": {},
      "source": [
        "![Flowchart](URL-to-image)"
      ]
    },
    {
      "cell_type": "markdown",
      "metadata": {
        "id": "85ajEoeqfq6p"
      },
      "source": [
        "**Questions 2**\n",
        "\n",
        "---\n",
        "Create your code based on the flowchart"
      ]
    },
    {
      "cell_type": "code",
      "execution_count": 20,
      "metadata": {
        "id": "jRiezMKUfq6v"
      },
      "outputs": [
        {
          "name": "stdout",
          "output_type": "stream",
          "text": [
            "20 Celcius is equal to 68 Fahrenheit\n"
          ]
        }
      ],
      "source": [
        "# Write your code here\n",
        "temp = 20\n",
        "from_unit = 'Celcius'\n",
        "to_unit = 'Fahrenheit'\n",
        "converted_temp = 0\n",
        "\n",
        "if from_unit == 'Celcius':\n",
        "    if to_unit == 'Fahrenheit':\n",
        "        converted_temp = 9/5*temp+32\n",
        "    elif to_unit == 'Kelvin':\n",
        "        converted_temp = temp+273\n",
        "        \n",
        "elif from_unit == 'Fahrenheit':\n",
        "    if to_unit == 'Celcius':\n",
        "        converted_temp = 5/9*(temp-32)\n",
        "    elif to_unit == 'Kelvin':\n",
        "        converted_temp = (5/9*(temp-32))+273\n",
        "        \n",
        "elif from_unit == 'Kelvin':\n",
        "    if to_unit == 'Fahrenheit':\n",
        "        converted_temp =  5/9*((temp-273)-32) \n",
        "    elif to_unit == 'Celcius':\n",
        "        converted_temp = temp-273\n",
        "\n",
        "print(f'{temp} {from_unit} is equal to {int(converted_temp)} {to_unit}')"
      ]
    },
    {
      "cell_type": "markdown",
      "metadata": {
        "id": "oMGlSKoCfuy-"
      },
      "source": [
        "# Task 3. Extract NIK (Nomor Induk Kependudukan) Data\n",
        "\n",
        "Category: Hard\n",
        "\n",
        "---"
      ]
    },
    {
      "cell_type": "markdown",
      "metadata": {
        "id": "zA6xNheyfuzA"
      },
      "source": [
        "**Task Descriptions**\n",
        "- NIK is not some random numbers. You can extract information from the NIK.\n",
        "  - The first six digits are a province, regency, and district code\n",
        "  - The next six digits are the date of birth; DD-MM-YY, respectively\n",
        "    - For men, the date of birth ranged between 01-31\n",
        "    - For women, the date of birth is added with 40, hence ranged between 41-71.\n",
        "  - The last 4 digits are a serial number of NIK issuance.\n",
        "\n",
        "\n",
        "- Given **two** NIK, your tasks are\n",
        "  1. Extract the date of birth of each NIK\n",
        "  2. Extract their gender.\n",
        "  3. Extract whether they have similar gender.\n",
        "  4. Extract whether they have similar month of birth."
      ]
    },
    {
      "cell_type": "markdown",
      "metadata": {
        "id": "mAxaxYujfuzD"
      },
      "source": [
        "**Input**\n",
        "\n",
        "```python\n",
        "nik_1 = 1571011709860003\n",
        "nik_2 = 2404075109910009\n",
        "```"
      ]
    },
    {
      "cell_type": "markdown",
      "metadata": {
        "id": "S89bi74tfuzE"
      },
      "source": [
        "**Output**\n",
        "```\n",
        "Date of Birth\n",
        "- NIK 1 : 17-09-86\n",
        "- NIK 2 : 11-09-91\n",
        "\n",
        "Gender\n",
        "- NIK 1 : Male\n",
        "- NIK 2 : Female\n",
        "\n",
        "Do they have similar gender?\n",
        "No\n",
        "\n",
        "Do they have similar month of birth?\n",
        "Yes, it is on September\n",
        "```"
      ]
    },
    {
      "cell_type": "markdown",
      "metadata": {
        "id": "SKFeGqu4exUY"
      },
      "source": []
    },
    {
      "cell_type": "markdown",
      "metadata": {
        "id": "VXVzZLeAfuzG"
      },
      "source": [
        "**Questions 1**\n",
        "\n",
        "---\n",
        "Draw your code flowchart"
      ]
    },
    {
      "cell_type": "markdown",
      "metadata": {
        "id": "PlnLVk45fuzL"
      },
      "source": [
        "*Insert picture of your flowchart*"
      ]
    },
    {
      "cell_type": "markdown",
      "metadata": {
        "id": "Qu7qITjNfuzN"
      },
      "source": [
        "**Questions 2**\n",
        "\n",
        "---\n",
        "Create your code based on the flowchart"
      ]
    },
    {
      "cell_type": "code",
      "execution_count": 86,
      "metadata": {
        "id": "Eb60OMfVfuzO"
      },
      "outputs": [
        {
          "name": "stdout",
          "output_type": "stream",
          "text": [
            "Date of Birth\n",
            "NIK-2 : 17-09-86\n",
            "NIK-2 : 11-09-91\n",
            "\n",
            "Gender\n",
            "NIK-1 : Male\n",
            "NIK-2 : Female\n",
            "\n",
            "Do They have similar gender?\n",
            "No\n",
            "\n",
            "Do They have similar month of birth?\n",
            "Yes, it is on September\n"
          ]
        }
      ],
      "source": [
        "# Write your code here\n",
        "nik_1 = 1571011709860003\n",
        "nik_2 = 2404075109910009\n",
        "\n",
        "# define list for storing values\n",
        "nik_list = [nik_1, nik_2]\n",
        "date_of_birth_list = []\n",
        "month_list = []\n",
        "gender_list = []\n",
        "\n",
        "#iterate through each nik\n",
        "for nik in nik_list:\n",
        "\n",
        "    # convert nik into list and get the date_of_birth \n",
        "    date_of_birth = str(nik)[6:12]\n",
        "\n",
        "    # check date_of_birth\n",
        "    if int(date_of_birth[:2]) > 40:\n",
        "        gender = 'Female'\n",
        "        date = int(date_of_birth[:2]) - 40\n",
        "    else:\n",
        "        gender = 'Male'\n",
        "        date = date_of_birth[:2]\n",
        "\n",
        "    gender_list.append(gender)\n",
        "\n",
        "\n",
        "    month = date_of_birth[2:4] # get the month\n",
        "\n",
        "    year = date_of_birth[4:] # get the year\n",
        "\n",
        "    # convert date into desired format and store it on a list\n",
        "    date_of_birth_converted = str(date) + '-' + month + '-' + year\n",
        "    date_of_birth_list.append(date_of_birth_converted)\n",
        "\n",
        "    # convert numeric format month into month name\n",
        "    match month:\n",
        "        case '01':\n",
        "            month = 'January'\n",
        "        case '02':\n",
        "            month = 'February'\n",
        "        case '03':\n",
        "            month = 'March'\n",
        "        case '04':\n",
        "            month = 'April'\n",
        "        case '05':\n",
        "            month = 'May'\n",
        "        case '06':\n",
        "            month = 'June'\n",
        "        case '07':\n",
        "            month = 'July'\n",
        "        case '08':\n",
        "            month = 'August'\n",
        "        case '09':\n",
        "            month = 'September'\n",
        "        case '10':\n",
        "            month = 'October'\n",
        "        case '11':\n",
        "            month = 'November'\n",
        "        case '12':\n",
        "            month = 'December'\n",
        "    month_list.append(month)\n",
        "\n",
        "\n",
        "# Showing the results\n",
        "print('Date of Birth')\n",
        "for i, date in enumerate(date_of_birth_list):\n",
        "    print('NIK-{} : {}'.format(1+1,date))\n",
        "\n",
        "print('\\nGender')\n",
        "for i, gender in enumerate(gender_list):\n",
        "    print('NIK-{} : {}'.format(i+1,gender))\n",
        "\n",
        "print('\\nDo They have similar gender?')\n",
        "if gender_list[0] == gender_list[1]:\n",
        "    print('Yes, they both are {}'.format(gender_list[0]))\n",
        "else:\n",
        "    print('No')\n",
        "\n",
        "print('\\nDo They have similar month of birth?')\n",
        "if month_list[0] == month_list[1]:\n",
        "    print('Yes, it is on {}'.format(month_list[0]))\n",
        "else:\n",
        "    print('No')"
      ]
    },
    {
      "cell_type": "markdown",
      "metadata": {
        "id": "Bwed_S8cjsIO"
      },
      "source": [
        "# Task 4. Calculate Pajak Penghasilan (Simplified)\n",
        "\n",
        "Category: Hard\n",
        "\n",
        "---"
      ]
    },
    {
      "cell_type": "markdown",
      "metadata": {
        "id": "zoDj-s5RjsIR"
      },
      "source": [
        "**Task Descriptions**\n",
        "- According to Pemotongan Pajak Penghasilan PPh Pasal 21 Tahun 2016, we can calculate our income tax as (we'll write in Bahasa Indonesia for avoiding missinterpretation)\n",
        "\n",
        "- **Penghasilan tidak kena pajak (PTKP)**\n",
        "  - Penghasilan Rp 54.000.000 setahun untuk wajib pajak.\n",
        "  - Tambahan Rp 4.500.000 diberikan jika wajib pajak menikah.\n",
        "  - Tambahan Rp 4.500.000 lagi jika punya 1 orang anak atau Rp 9.000.000 jika punya 2 orang anak. Apabila jumlah tanggungan lebih dari itu, maka tetap dihitung 3 orang tanggungan.\n",
        "\n",
        "- **Tarif Pajak Penghasilan**\n",
        "  - 5% untuk penghasilan kena pajak (PKP) sampai dengan 60 Juta\n",
        "  - 15% untuk PKP di atas 60 juta sampai dengan 250 Juta\n",
        "  - 25% untuk PKP di atas 250 juta sampai dengan 500 juta\n",
        "  - 30% untuk PKP di atas 500 juta sampai dengan 5 miliar\n",
        "  - 35% untuk PKP di atas 5 miliar\n",
        "\n",
        "- Your task is calculate the income tax given\n",
        "  - Monthly income\n",
        "  - Marital status\n",
        "  - The number of dependents (jumlah tanggungan)"
      ]
    },
    {
      "cell_type": "markdown",
      "metadata": {
        "id": "6Z-n6OrpjsIT"
      },
      "source": [
        "**Input - 1**\n",
        "\n",
        "```python\n",
        "monthly_income = 4750000\n",
        "marital_status = 'single'\n",
        "n_dependents = 0\n",
        "```"
      ]
    },
    {
      "cell_type": "markdown",
      "metadata": {
        "id": "4J86ID58jsIU"
      },
      "source": [
        "**Output - 1**\n",
        "```\n",
        "Penghasilan neto setahun:\n",
        "57000000\n",
        "\n",
        "PTKP TK/0:\n",
        "-54000000\n",
        "\n",
        "Penghasilan Kena Pajak:\n",
        "3000000\n",
        "\n",
        "PPh 21 terutang setahun:\n",
        "150000\n",
        "```"
      ]
    },
    {
      "cell_type": "markdown",
      "metadata": {
        "id": "I3vgqcHSpcRx"
      },
      "source": [
        "**Input - 2**\n",
        "\n",
        "```python\n",
        "monthly_income = 15000000\n",
        "marital_status = 'married'\n",
        "n_dependents = 3\n",
        "```"
      ]
    },
    {
      "cell_type": "markdown",
      "metadata": {
        "id": "Wuy3LHIGpcSr"
      },
      "source": [
        "**Output - 2**\n",
        "```\n",
        "Penghasilan neto setahun:\n",
        "180000000\n",
        "\n",
        "PTKP K/3:\n",
        "-72000000\n",
        "\n",
        "Penghasilan Kena Pajak:\n",
        "108000000\n",
        "\n",
        "PPh 21 terutang setahun:\n",
        "16200000\n",
        "```"
      ]
    },
    {
      "cell_type": "markdown",
      "metadata": {
        "id": "iUT8TvxFjsIW"
      },
      "source": [
        "**Questions 1**\n",
        "\n",
        "---\n",
        "Draw your code flowchart"
      ]
    },
    {
      "cell_type": "markdown",
      "metadata": {
        "id": "EGFOt7TZjsIX"
      },
      "source": [
        "*Insert picture of your flowchart*"
      ]
    },
    {
      "cell_type": "markdown",
      "metadata": {
        "id": "DpEkIMiJjsIY"
      },
      "source": [
        "**Questions 2**\n",
        "\n",
        "---\n",
        "Create your code based on the flowchart"
      ]
    },
    {
      "cell_type": "code",
      "execution_count": 20,
      "metadata": {
        "id": "DQkvhd4TjsIa"
      },
      "outputs": [
        {
          "name": "stdout",
          "output_type": "stream",
          "text": [
            "Penghasilan Neto setahun:\n",
            "57000000\n",
            "\n",
            "PTKP TK/0:\n",
            "-54000000\n",
            "\n",
            "Penghasilan Kena Pajak:\n",
            "3000000\n",
            "\n",
            "PPH 21 terhutang setahun:\n",
            "150000\n"
          ]
        }
      ],
      "source": [
        "# Write your code here\n",
        "monthly_income = 4750000\n",
        "marital_status = 'single'\n",
        "n_dependents = 0\n",
        "\n",
        "# Calculate yearly income \n",
        "yearly_income = monthly_income * 12\n",
        "\n",
        "# set default value of income with no tax to zero \n",
        "ptkp = 54_000_000\n",
        "\n",
        "# Adding income with no tax if status is married\n",
        "if marital_status == 'married':\n",
        "    taxed_deduction = 4_500_000\n",
        "else:\n",
        "    taxed_deduction = 0\n",
        "ptkp += taxed_deduction\n",
        "\n",
        "# check the number of children and adding income with no tax based on it\n",
        "if n_dependents == 1:\n",
        "    taxed_deduction = 4_500_000\n",
        "elif n_dependents == 2:\n",
        "    taxed_deduction = 9_000_000\n",
        "elif n_dependents >=3:\n",
        "    taxed_deduction = 13_500_000\n",
        "ptkp += taxed_deduction \n",
        "\n",
        "# calculating the income for tax calculation\n",
        "pkp = yearly_income - ptkp\n",
        "\n",
        "# calculating income tax\n",
        "if pkp > 0 and pkp <= 60_000_000:\n",
        "    tax = pkp * 5 / 100\n",
        "elif pkp > 60_000_000 and pkp <= 250_000_000:\n",
        "    tax = pkp * 15 / 100\n",
        "elif pkp > 250_000_000 and pkp <= 500_000_000:\n",
        "    tax = pkp * 25 / 100\n",
        "elif pkp > 500_000_000 and pkp <= 5_000_000_000:\n",
        "    tax = pkp * 30 / 100\n",
        "elif pkp > 5_000_000_000:\n",
        "    tax = pkp * 35 / 100\n",
        "\n",
        "# Showing yearly income\n",
        "print('Penghasilan Neto setahun:')\n",
        "print(yearly_income)\n",
        "\n",
        "#showing total income with no tax\n",
        "if marital_status == 'married':\n",
        "    print('\\nPTKP K/{}:'.format(n_dependents))\n",
        "elif marital_status == 'single':\n",
        "    print('\\nPTKP TK/{}:'.format(n_dependents))\n",
        "print(-1 * ptkp )\n",
        "\n",
        "#showing income for tax calculation\n",
        "print('\\nPenghasilan Kena Pajak:')\n",
        "print(pkp)\n",
        "\n",
        "#showing income tax\n",
        "print('\\nPPH 21 terhutang setahun:')\n",
        "print(int(tax))"
      ]
    },
    {
      "cell_type": "code",
      "execution_count": null,
      "metadata": {},
      "outputs": [],
      "source": []
    }
  ],
  "metadata": {
    "colab": {
      "collapsed_sections": [
        "QjkBfBPYQuBp",
        "HBpPiNIxd7os",
        "oMGlSKoCfuy-",
        "Bwed_S8cjsIO"
      ],
      "provenance": []
    },
    "kernelspec": {
      "display_name": "Python 3",
      "name": "python3"
    },
    "language_info": {
      "codemirror_mode": {
        "name": "ipython",
        "version": 3
      },
      "file_extension": ".py",
      "mimetype": "text/x-python",
      "name": "python",
      "nbconvert_exporter": "python",
      "pygments_lexer": "ipython3",
      "version": "3.12.4"
    }
  },
  "nbformat": 4,
  "nbformat_minor": 0
}
