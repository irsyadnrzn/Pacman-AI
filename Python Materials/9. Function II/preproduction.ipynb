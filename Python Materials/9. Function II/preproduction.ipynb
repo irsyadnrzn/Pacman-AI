{
 "cells": [
  {
   "cell_type": "code",
   "execution_count": 3,
   "metadata": {},
   "outputs": [],
   "source": [
    "# lingkaran.py\n",
    "from math import pi\n",
    "\n",
    "def luas_lingkaran():\n",
    "    jari = float(input('Masukkan jari - jari lingkaran: '))\n",
    "    luas = pi * jari * jari\n",
    "    return luas \n",
    "\n",
    "def keliling_lingkaran():\n",
    "    jari = float(input('Masukkan jari - jari lingkaran: '))\n",
    "    keliling = 2 * pi * jari\n",
    "    return keliling"
   ]
  },
  {
   "cell_type": "code",
   "execution_count": 11,
   "metadata": {},
   "outputs": [
    {
     "data": {
      "text/plain": [
       "78.53981633974483"
      ]
     },
     "execution_count": 11,
     "metadata": {},
     "output_type": "execute_result"
    }
   ],
   "source": [
    "luas_lingkaran()"
   ]
  },
  {
   "cell_type": "code",
   "execution_count": 9,
   "metadata": {},
   "outputs": [
    {
     "data": {
      "text/plain": [
       "31.41592653589793"
      ]
     },
     "execution_count": 9,
     "metadata": {},
     "output_type": "execute_result"
    }
   ],
   "source": [
    "keliling_lingkaran()"
   ]
  },
  {
   "cell_type": "code",
   "execution_count": 12,
   "metadata": {},
   "outputs": [],
   "source": [
    "# persegi_panjang.py\n",
    "\n",
    "def luas_persegi_panjang():\n",
    "    panjang = float(input(\"Masukkan Panjang Persegi Panjang: \"))\n",
    "    lebar = float(input(\"Masukkan Lebar Persegi Panjang: \"))\n",
    "    luas = panjang * lebar\n",
    "    return luas \n",
    "\n",
    "def keliling_persegi_panjang():\n",
    "    panjang = float(input(\"Masukkan Panjang Persegi Panjang: \"))\n",
    "    lebar = float(input(\"Masukkan Lebar Persegi Panjang: \"))\n",
    "    keliling = 2 * panjang + 2 * lebar\n",
    "    return keliling "
   ]
  },
  {
   "cell_type": "code",
   "execution_count": 13,
   "metadata": {},
   "outputs": [
    {
     "data": {
      "text/plain": [
       "20.0"
      ]
     },
     "execution_count": 13,
     "metadata": {},
     "output_type": "execute_result"
    }
   ],
   "source": [
    "luas_persegi_panjang()"
   ]
  },
  {
   "cell_type": "code",
   "execution_count": 14,
   "metadata": {},
   "outputs": [
    {
     "data": {
      "text/plain": [
       "60.0"
      ]
     },
     "execution_count": 14,
     "metadata": {},
     "output_type": "execute_result"
    }
   ],
   "source": [
    "keliling_persegi_panjang()"
   ]
  },
  {
   "cell_type": "code",
   "execution_count": 15,
   "metadata": {},
   "outputs": [],
   "source": [
    "#segitiga.py \n",
    "def luas_segitiga():\n",
    "    alas = float(input(\"Masukkan Alas Segitiga: \"))\n",
    "    tinggi = float(input(\"Masukkan Tinggi Segitiga: \"))\n",
    "    luas = alas * tinggi / 2\n",
    "    return luas \n",
    "\n",
    "def keliling_segitiga():\n",
    "    sisi_1 = float(input(\"Masukkan Sisi 1 Segitiga: \"))\n",
    "    sisi_2 = float(input(\"Masukkan Sisi 2 Segitiga: \"))\n",
    "    sisi_3 = float(input(\"Masukkan Sisi 3 Segitiga: \"))\n",
    "    keliling = sisi_1 + sisi_2 + sisi_3\n",
    "    return keliling"
   ]
  },
  {
   "cell_type": "code",
   "execution_count": 16,
   "metadata": {},
   "outputs": [
    {
     "data": {
      "text/plain": [
       "10.0"
      ]
     },
     "execution_count": 16,
     "metadata": {},
     "output_type": "execute_result"
    }
   ],
   "source": [
    "luas_segitiga()"
   ]
  },
  {
   "cell_type": "code",
   "execution_count": 17,
   "metadata": {},
   "outputs": [
    {
     "data": {
      "text/plain": [
       "15.0"
      ]
     },
     "execution_count": 17,
     "metadata": {},
     "output_type": "execute_result"
    }
   ],
   "source": [
    "keliling_segitiga()"
   ]
  },
  {
   "cell_type": "code",
   "execution_count": 1,
   "metadata": {},
   "outputs": [
    {
     "data": {
      "text/plain": [
       "'Persegi Panjang'"
      ]
     },
     "execution_count": 1,
     "metadata": {},
     "output_type": "execute_result"
    }
   ],
   "source": [
    "text = 'persegi panjang'\n",
    "text.title()"
   ]
  },
  {
   "cell_type": "code",
   "execution_count": 2,
   "metadata": {},
   "outputs": [],
   "source": [
    "def bunga_anuitas(pinjaman, bunga):\n",
    "    hari = 30\n",
    "    tabungan = pinjaman * bunga * hari\n",
    "    return tabungan"
   ]
  },
  {
   "cell_type": "code",
   "execution_count": 4,
   "metadata": {},
   "outputs": [],
   "source": [
    "def bunga_flat(pinjaman, bunga):\n",
    "    bulan = 12\n",
    "    bunga = bunga / 100\n",
    "    pokok_pinjaman = pinjaman / bulan\n",
    "    bunga_pertahun = pinjaman * bunga\n",
    "    bunga_perbulan = bunga_pertahun / bulan\n",
    "    total_angsuran = print(f\"Angsuran perbulan yang wajib dibayarkan Rp.{int(pokok_pinjaman + bunga_perbulan)}\")\n",
    "    return total_angsuran"
   ]
  },
  {
   "cell_type": "code",
   "execution_count": 5,
   "metadata": {},
   "outputs": [
    {
     "name": "stdout",
     "output_type": "stream",
     "text": [
      "Angsuran perbulan yang wajib dibayarkan Rp.916666\n"
     ]
    }
   ],
   "source": [
    "bunga_flat(10_000_000, 10)"
   ]
  }
 ],
 "metadata": {
  "kernelspec": {
   "display_name": "Python 3",
   "language": "python",
   "name": "python3"
  },
  "language_info": {
   "codemirror_mode": {
    "name": "ipython",
    "version": 3
   },
   "file_extension": ".py",
   "mimetype": "text/x-python",
   "name": "python",
   "nbconvert_exporter": "python",
   "pygments_lexer": "ipython3",
   "version": "3.12.4"
  }
 },
 "nbformat": 4,
 "nbformat_minor": 2
}
