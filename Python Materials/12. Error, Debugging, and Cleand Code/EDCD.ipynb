{
 "cells": [
  {
   "cell_type": "markdown",
   "metadata": {},
   "source": [
    "# Task 1"
   ]
  },
  {
   "cell_type": "code",
   "execution_count": 2,
   "metadata": {},
   "outputs": [
    {
     "name": "stdout",
     "output_type": "stream",
     "text": [
      "fMotor Sport: {produk} diproduksi pada tahun {produk}\n",
      "fMotor Sport: {produk} diproduksi pada tahun {produk}\n",
      "fMotor Sport: {produk} diproduksi pada tahun {produk}\n"
     ]
    }
   ],
   "source": [
    "produk_motor = {\n",
    "    \"Suzuki Hayabusa\": \"2005\",\n",
    "    \"Ducati Monster\": \"2012\",\n",
    "    \"Honda CB1000\": \"2013\",\n",
    "}\n",
    "\n",
    "for produk_tahun in produk_motor.items():\n",
    "    print(\"fMotor Sport: {produk} diproduksi pada tahun {produk}\")"
   ]
  },
  {
   "cell_type": "code",
   "execution_count": 4,
   "metadata": {},
   "outputs": [
    {
     "name": "stdout",
     "output_type": "stream",
     "text": [
      "Motor Sport: Suzuki Hayabusa diproduksi pada tahun 2005\n",
      "Motor Sport: Ducati Monster diproduksi pada tahun 2012\n",
      "Motor Sport: Honda CB1000 diproduksi pada tahun 2013\n"
     ]
    }
   ],
   "source": [
    "import pdb\n",
    "\n",
    "produk_motor = {\n",
    "    \"Suzuki Hayabusa\": \"2005\",\n",
    "    \"Ducati Monster\": \"2012\",\n",
    "    \"Honda CB1000\": \"2013\",\n",
    "}\n",
    "\n",
    "#pdb.set_trace()\n",
    "for produk, tahun in produk_motor.items():\n",
    "    print(f\"Motor Sport: {produk} diproduksi pada tahun {tahun}\")"
   ]
  },
  {
   "cell_type": "markdown",
   "metadata": {},
   "source": [
    "# Task 2"
   ]
  },
  {
   "cell_type": "code",
   "execution_count": 9,
   "metadata": {},
   "outputs": [],
   "source": [
    "def menghitung_pajak():\n",
    "   while True:\n",
    "     NILAI = 0.05\n",
    "\n",
    "     penghasilan = int(input(\"Masukan Penghasilan Anda : \" ))\n",
    "     pajak = penghasilan * NILAI\n",
    "     penghasilan_bersih = penghasilan - pajak\n",
    "\n",
    "     print(f'Pajak yang harus dibayar adalah {pajak}, sehingga total akhir penghasilann adalah {penghasilan_bersih}' )\n",
    "        \n",
    "     break"
   ]
  },
  {
   "cell_type": "code",
   "execution_count": 10,
   "metadata": {},
   "outputs": [
    {
     "name": "stdout",
     "output_type": "stream",
     "text": [
      "Pajak yang harus dibayar adalah 250000.0, sehingga total akhir penghasilann adalah 4750000.0\n"
     ]
    }
   ],
   "source": [
    "menghitung_pajak()"
   ]
  },
  {
   "cell_type": "code",
   "execution_count": 26,
   "metadata": {},
   "outputs": [],
   "source": [
    "def menghitung_pajak():\n",
    "   while True:\n",
    "     NILAI = 0.05\n",
    "\n",
    "     try:   \n",
    "        penghasilan = int(input(\"Masukan Penghasilan Anda : \" ))\n",
    "\n",
    "        if penghasilan < 0:\n",
    "           raise Exception(\"Harus lebih dari 0\")\n",
    "        \n",
    "        pajak = penghasilan * NILAI\n",
    "        penghasilan_bersih = penghasilan - pajak\n",
    "\n",
    "        print(f'Pajak yang harus dibayar adalah {pajak}, sehingga total akhir penghasilann adalah {penghasilan_bersih}' )\n",
    "        \n",
    "        break\n",
    "     \n",
    "     except ValueError:\n",
    "        print('Nilai bukan tipe data integer!')\n",
    "\n",
    "     except NameError:\n",
    "        print('Nama Variabel yang digunakan tidak sesuai!')\n"
   ]
  },
  {
   "cell_type": "code",
   "execution_count": 27,
   "metadata": {},
   "outputs": [
    {
     "name": "stdout",
     "output_type": "stream",
     "text": [
      "Nilai bukan tipe data integer!\n",
      "Nilai bukan tipe data integer!\n",
      "Nilai bukan tipe data integer!\n",
      "Nilai bukan tipe data integer!\n",
      "Nilai bukan tipe data integer!\n",
      "Nilai bukan tipe data integer!\n",
      "Pajak yang harus dibayar adalah 0.4, sehingga total akhir penghasilann adalah 7.6\n"
     ]
    }
   ],
   "source": [
    "menghitung_pajak()"
   ]
  },
  {
   "cell_type": "markdown",
   "metadata": {},
   "source": [
    "# Task 3"
   ]
  },
  {
   "cell_type": "code",
   "execution_count": 35,
   "metadata": {},
   "outputs": [
    {
     "name": "stdout",
     "output_type": "stream",
     "text": [
      "250\n",
      "Sekian dan Terimakasih!\n"
     ]
    }
   ],
   "source": [
    "def menghitung_volume_kubus(r):\n",
    "    \"\"\"function ini untuk menghitung volume kubus\"\"\"\n",
    "    count_volume = r**3\n",
    "\n",
    "    return count_volume\n",
    "\n",
    "def menghitung_volume_balok(panjang,lebar,tinggi):\n",
    "    \"\"\"function ini untuk menghitung volume balok\"\"\"\n",
    "    count_volume = panjang*lebar*tinggi\n",
    "\n",
    "    return count_volume\n",
    "\n",
    "\n",
    "nama_bangun_ruang = input(\"Masukan Nama Bangun Ruang\")\n",
    "\n",
    "try:\n",
    "    if nama_bangun_ruang == \"kubus\":\n",
    "        r = int(input(\"Masukan nilai rusuk \"))\n",
    "        print(menghitung_volume_kubus(r))\n",
    "    elif nama_bangun_ruang == \"balok\":\n",
    "        panjang = int(input(\"Masukan nilai panjang \"))\n",
    "        lebar = int(input(\"Masukan nilai lebar \")) \n",
    "        tinggi = int(input(\"Masukan nilai tinggi \"))\n",
    "        print(menghitung_volume_balok(panjang, lebar, tinggi))\n",
    "    else:\n",
    "        raise Exception(\"Terjadi Kesalahan Input Nama Bangun Ruang\")\n",
    "\n",
    "except ValueError:\n",
    "    print(\"Nilai bukan tipe data integer\")\n",
    "\n",
    "finally:\n",
    "    print(\"Sekian dan Terimakasih!\")\n"
   ]
  },
  {
   "cell_type": "code",
   "execution_count": null,
   "metadata": {},
   "outputs": [],
   "source": []
  }
 ],
 "metadata": {
  "kernelspec": {
   "display_name": "Python 3",
   "language": "python",
   "name": "python3"
  },
  "language_info": {
   "codemirror_mode": {
    "name": "ipython",
    "version": 3
   },
   "file_extension": ".py",
   "mimetype": "text/x-python",
   "name": "python",
   "nbconvert_exporter": "python",
   "pygments_lexer": "ipython3",
   "version": "3.12.4"
  }
 },
 "nbformat": 4,
 "nbformat_minor": 2
}
