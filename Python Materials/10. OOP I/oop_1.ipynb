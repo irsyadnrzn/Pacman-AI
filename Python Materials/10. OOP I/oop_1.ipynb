{
 "cells": [
  {
   "cell_type": "markdown",
   "metadata": {},
   "source": [
    "# Task 1"
   ]
  },
  {
   "cell_type": "code",
   "execution_count": 45,
   "metadata": {},
   "outputs": [],
   "source": [
    "class Mobil:\n",
    "    def __init__(self, kecepatan, jarak):\n",
    "        self.kecepatan = kecepatan \n",
    "        self.jarak = jarak\n",
    "\n",
    "class Motor:\n",
    "    def __init__(self, kecepatan, jarak, warna):\n",
    "        self.kecepatan = kecepatan\n",
    "        self.jarak = jarak\n",
    "        self.warna = warna\n",
    "class Skuter:\n",
    "    pass\n",
    "    "
   ]
  },
  {
   "cell_type": "code",
   "execution_count": 2,
   "metadata": {},
   "outputs": [],
   "source": [
    "modelX = Mobil(240, 18)\n",
    "modelY = Motor(100, 10, \"Putih\")"
   ]
  },
  {
   "cell_type": "markdown",
   "metadata": {},
   "source": [
    "# Task 2"
   ]
  },
  {
   "cell_type": "code",
   "execution_count": 20,
   "metadata": {},
   "outputs": [],
   "source": [
    "class Belanja:\n",
    "    Roti = 3\n",
    "    Soda = 5\n",
    "    Selai = 2\n",
    "\n",
    "    def jumlah_belanja(self):\n",
    "        print(f'Jumlah Belanja: \\n    Roti = {Belanja.Roti} \\n    Soda = {Belanja.Soda} \\n    Selai = {Belanja.Selai}')\n",
    "\n",
    "\n",
    "class AlatTulis:\n",
    "    Pensil = 2000\n",
    "    Pulpen = 3000\n",
    "    Penghapus = 100\n",
    "\n",
    "    def TotalHarga(self):\n",
    "        print(f\"Daftar Harga :\")\n",
    "        print(f\"Pensil = {AlatTulis.Pensil}\")\n",
    "        print(f\"Pulpen = {AlatTulis.Pulpen}\")\n",
    "        print(f\"Penghapus = {AlatTulis.Penghapus}\")"
   ]
  },
  {
   "cell_type": "code",
   "execution_count": 23,
   "metadata": {},
   "outputs": [
    {
     "name": "stdout",
     "output_type": "stream",
     "text": [
      "Jumlah Belanja: \n",
      "    Roti = 3 \n",
      "    Soda = 5 \n",
      "    Selai = 2\n",
      "Daftar Harga :\n",
      "Pensil = 2000\n",
      "Pulpen = 3000\n",
      "Penghapus = 100\n"
     ]
    }
   ],
   "source": [
    "user_1 = Belanja()\n",
    "user_1.jumlah_belanja()\n",
    "\n",
    "user_2 = AlatTulis()\n",
    "user_2.TotalHarga()"
   ]
  },
  {
   "cell_type": "markdown",
   "metadata": {},
   "source": [
    "# Task 3"
   ]
  },
  {
   "cell_type": "code",
   "execution_count": 29,
   "metadata": {},
   "outputs": [],
   "source": [
    "class Pekerja:\n",
    "    def __init__(self, nama_depan, nama_belakang):\n",
    "        self.nama_depan = nama_depan\n",
    "        self.nama_belakang = nama_belakang\n",
    "        self.nama_Lengkap = nama_depan + ' ' + nama_belakang\n",
    "        self.email = nama_depan + '.' + nama_belakang + '@company.com'\n",
    "\n",
    "class Pelanggan:\n",
    "    def __init__(self, kota, desa):\n",
    "        self.kota = kota\n",
    "        self.desa = desa\n",
    "        self.kota_desa = kota + ', ' + desa"
   ]
  },
  {
   "cell_type": "code",
   "execution_count": 30,
   "metadata": {},
   "outputs": [
    {
     "name": "stdout",
     "output_type": "stream",
     "text": [
      "Iron Man\n",
      "Iron.Man@company.com\n"
     ]
    }
   ],
   "source": [
    "pekerja_1 = Pekerja('Iron','Man')\n",
    "print(pekerja_1.nama_Lengkap)\n",
    "print(pekerja_1.email)"
   ]
  },
  {
   "cell_type": "code",
   "execution_count": 32,
   "metadata": {},
   "outputs": [
    {
     "name": "stdout",
     "output_type": "stream",
     "text": [
      "Malang, Landangsari\n"
     ]
    }
   ],
   "source": [
    "pelanggan_1 = Pelanggan('Malang', 'Landangsari')\n",
    "print(pelanggan_1.kota_desa)"
   ]
  },
  {
   "cell_type": "markdown",
   "metadata": {},
   "source": [
    "# Task 4"
   ]
  },
  {
   "cell_type": "code",
   "execution_count": 41,
   "metadata": {},
   "outputs": [],
   "source": [
    "class BankAccount:\n",
    "    def __init__(self, nomor_rekening, nama, saldo ):\n",
    "        self.nomor_rekening = nomor_rekening\n",
    "        self.nama = nama\n",
    "        self.saldo = saldo\n",
    "\n",
    "    def setor_tunai(self, setoran):\n",
    "        self.saldo = self.saldo + setoran\n",
    "\n",
    "    def tarik_tunai(self, ambil):\n",
    "        self.saldo = self.saldo - ambil\n",
    "\n",
    "    def display(self):\n",
    "        print(f\"Nomor Akun : {self.nomor_rekening}\")\n",
    "        print(f\"Nama Akun : {self.nama}\")\n",
    "        print(f\"Saldo Akun : Rp. {self.saldo}\")\n",
    "        "
   ]
  },
  {
   "cell_type": "code",
   "execution_count": 42,
   "metadata": {},
   "outputs": [
    {
     "name": "stdout",
     "output_type": "stream",
     "text": [
      "Nomor Akun : 2178514584\n",
      "Nama Akun : Bambang\n",
      "Saldo Akun : Rp. 5000000\n"
     ]
    }
   ],
   "source": [
    "new_account = BankAccount(2178514584, 'Bambang', 5000000)\n",
    "new_account.display()"
   ]
  },
  {
   "cell_type": "code",
   "execution_count": 43,
   "metadata": {},
   "outputs": [
    {
     "name": "stdout",
     "output_type": "stream",
     "text": [
      "Nomor Akun : 2178514584\n",
      "Nama Akun : Bambang\n",
      "Saldo Akun : Rp. 5020000\n"
     ]
    }
   ],
   "source": [
    "new_account.setor_tunai(20_000)\n",
    "new_account.display()"
   ]
  },
  {
   "cell_type": "code",
   "execution_count": 44,
   "metadata": {},
   "outputs": [
    {
     "name": "stdout",
     "output_type": "stream",
     "text": [
      "Nomor Akun : 2178514584\n",
      "Nama Akun : Bambang\n",
      "Saldo Akun : Rp. 4520000\n"
     ]
    }
   ],
   "source": [
    "new_account.tarik_tunai(500_000)\n",
    "new_account.display()"
   ]
  }
 ],
 "metadata": {
  "kernelspec": {
   "display_name": "Python 3",
   "language": "python",
   "name": "python3"
  },
  "language_info": {
   "codemirror_mode": {
    "name": "ipython",
    "version": 3
   },
   "file_extension": ".py",
   "mimetype": "text/x-python",
   "name": "python",
   "nbconvert_exporter": "python",
   "pygments_lexer": "ipython3",
   "version": "3.12.4"
  }
 },
 "nbformat": 4,
 "nbformat_minor": 2
}
