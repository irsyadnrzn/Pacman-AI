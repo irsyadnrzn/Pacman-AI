{
  "cells": [
    {
      "cell_type": "markdown",
      "metadata": {
        "id": "q5PnI2Mzb-Im"
      },
      "source": [
        "# Python Prerequisite Test\n",
        "\n",
        "By: Pacmann AI\n",
        "\n",
        "---"
      ]
    },
    {
      "cell_type": "markdown",
      "metadata": {
        "id": "71yk0pGecCQE"
      },
      "source": [
        "**Instructions**:\n",
        "- Make a Copy of this notebook.\n",
        "- Answer all questions.\n",
        "- Submit your answer in **.ipynb** format named with `your_name-python.ipynb`\n",
        "- Example: `budi_xaskha-python.ipynb`\n",
        "- **Submission Link**: [SUBMIT YOUR ANSWER](https://forms.gle/3VGV3t59rsPhbpZn9)\n",
        "\n",
        "**Note**:\n",
        "- There are 10 questions to answer.\n",
        "- You have to answer the question according to the descriptions. **Please read the description and docstring carefully**.\n",
        "- There are several test cases you can use to **validate your answer**.\n",
        "- <font color='red'>**YOU MUST ANSWER THE QUESTIONS WITHOUT USING ANY LIBRARY**</font>\n",
        "- **Do not change** the function / class name.\n",
        "- **Do not use** input() function\n",
        "- <font color='red'>**Hard deadline**: 1 week before first main course (not a prerequisite course) start</font>"
      ]
    },
    {
      "cell_type": "markdown",
      "metadata": {
        "id": "mHn4dahHthcr"
      },
      "source": [
        "# 1. Find the Structure of Data\n",
        "---"
      ]
    },
    {
      "cell_type": "markdown",
      "metadata": {
        "id": "JUzi1KZCtmF0"
      },
      "source": [
        "Given a 2D list of data, your task is to create a function that returns the number of rows & columns from that list."
      ]
    },
    {
      "cell_type": "markdown",
      "metadata": {
        "id": "AT8xz-OAPmEY"
      },
      "source": [
        "---\n",
        "Input example-1:\n",
        "\n",
        "```python\n",
        "data = [[1, 2, 3],\n",
        "        [4, 5, 6],\n",
        "        [7, 8, 9],\n",
        "        [10, 11, 12]]\n",
        "\n",
        "res = check_structure(data)\n",
        "print(res)\n",
        "```\n",
        "\n",
        "Output example-1:\n",
        "```\n",
        "[4,3]\n",
        "```"
      ]
    },
    {
      "cell_type": "markdown",
      "metadata": {
        "id": "jKbR_YtrPmEZ"
      },
      "source": [
        "---\n",
        "Input example-2:\n",
        "\n",
        "```python\n",
        "data = [[4, 3, 2, 10],\n",
        "        [8, 2, 1, 3]]\n",
        "\n",
        "res = check_structure(data)\n",
        "print(res)\n",
        "```\n",
        "\n",
        "Output example-2:\n",
        "```\n",
        "[2,4]\n",
        "```"
      ]
    },
    {
      "cell_type": "markdown",
      "metadata": {
        "id": "TfFau3ijXoTC"
      },
      "source": [
        "---\n",
        "Input example-3:\n",
        "\n",
        "```python\n",
        "data = [[0.5, 0.3, 0.1]]\n",
        "\n",
        "res = check_structure(data)\n",
        "print(res)\n",
        "```\n",
        "\n",
        "Output example-3:\n",
        "```\n",
        "[1,3]\n",
        "```"
      ]
    },
    {
      "cell_type": "markdown",
      "metadata": {
        "id": "7pwr-IgvuaIa"
      },
      "source": [
        "---\n",
        "Write the function here"
      ]
    },
    {
      "cell_type": "code",
      "execution_count": 21,
      "metadata": {
        "id": "D2YaIRWlq5w4"
      },
      "outputs": [],
      "source": [
        "# DO NOT CHANGE THE NAME & INPUT OF THE FUNCTION\n",
        "def check_structure(data):\n",
        "    '''\n",
        "    Function to check the data structures\n",
        "\n",
        "    Parameters\n",
        "    ----------\n",
        "    data : list\n",
        "        The 2D sample data\n",
        "\n",
        "    Returns\n",
        "    --------\n",
        "    data_shape : list\n",
        "        The shape of data with format [nrows, ncols]\n",
        "        nrows = number of rows\n",
        "        ncols = number of columns\n",
        "    '''\n",
        "    ###\n",
        "    nrows = len(data) # storing the number of rows\n",
        "    ncols = len(data[0]) # storing the number of columns\n",
        "    shape = [nrows, ncols] # Get the data shape\n",
        "\n",
        "    return shape\n",
        "    ### YOUR CODE HERE\n",
        "    ###"
      ]
    },
    {
      "cell_type": "markdown",
      "metadata": {
        "id": "Td84PTkvumQG"
      },
      "source": [
        "Check function"
      ]
    },
    {
      "cell_type": "code",
      "execution_count": 22,
      "metadata": {
        "colab": {
          "base_uri": "https://localhost:8080/"
        },
        "id": "U0ImiFp9uYIq",
        "outputId": "2891fc1f-2dd8-4f40-adb7-180cc55c4443"
      },
      "outputs": [
        {
          "name": "stdout",
          "output_type": "stream",
          "text": [
            "[4, 3]\n"
          ]
        }
      ],
      "source": [
        "# DO NOT CHANGE ANYTHING IN THIS CELL\n",
        "# Just run after you finish the function\n",
        "data = [[1, 2, 3],\n",
        "        [4, 5, 6],\n",
        "        [7, 8, 9],\n",
        "        [10, 11, 12]]\n",
        "\n",
        "data_shape = check_structure(data)\n",
        "print(data_shape)"
      ]
    },
    {
      "cell_type": "markdown",
      "metadata": {
        "id": "8rJAViFqu2Mp"
      },
      "source": [
        "# 2. Create a Weighted Average Function\n",
        "---"
      ]
    },
    {
      "cell_type": "markdown",
      "metadata": {
        "id": "HvhZSTv4u6VZ"
      },
      "source": [
        "Given a list of number (`data`) and list of weight (`w`), we want to find its weighted average.\n",
        "\n",
        "To calculate the weighted average, you can use belows formula\n",
        "\n",
        "$$\n",
        "\\begin{align*}\n",
        "\\text{weighted average} &= \\sum_{i=1}^{n} w_{i} \\cdot \\text{data}_{i} \\\\\n",
        "\\text{weighted average} &= w_{1} \\cdot \\text{data}_{1} +  w_{2} \\cdot \\text{data}_{2} + \\cdots + w_{n} \\cdot \\text{data}_{n}\\\\\n",
        "\\end{align*}\n",
        "$$"
      ]
    },
    {
      "cell_type": "markdown",
      "metadata": {
        "id": "LNo78Dl0o-5l"
      },
      "source": [
        "---\n",
        "Input example-1:\n",
        "\n",
        "```python\n",
        "data = [10, 20, 30, 40, 50]\n",
        "w = [0.10, 0.20, 0.25, 0.3, 0.15]\n",
        "\n",
        "avg = calc_weighted_avg(data, w)\n",
        "print(avg)\n",
        "```\n",
        "\n",
        "Output example-1:\n",
        "```\n",
        "32.0\n",
        "```"
      ]
    },
    {
      "cell_type": "markdown",
      "metadata": {
        "id": "1YEY_NSkCiPz"
      },
      "source": [
        "---\n",
        "Input example-2:\n",
        "\n",
        "```python\n",
        "data = [-2, -1, 0, 1, 2]\n",
        "w = [0.2, 0.2, 0.2, 0.2, 0.2]\n",
        "\n",
        "avg = calc_weighted_avg(data, w)\n",
        "print(avg)\n",
        "```\n",
        "\n",
        "Output example-2:\n",
        "```\n",
        "0.0\n",
        "```"
      ]
    },
    {
      "cell_type": "markdown",
      "metadata": {
        "id": "9ZFZ0t2-DtL2"
      },
      "source": [
        "---\n",
        "Input example-3:\n",
        "\n",
        "```python\n",
        "data = [12, 13.5, 9.8, 10.3]\n",
        "w = [0.10, 0.20, 0.30, 0.40]\n",
        "\n",
        "avg = calc_weighted_avg(data, w)\n",
        "print(avg)\n",
        "```\n",
        "\n",
        "Output example-3:\n",
        "```\n",
        "10.96\n",
        "```"
      ]
    },
    {
      "cell_type": "markdown",
      "metadata": {
        "id": "d_qWR0fyPrlm"
      },
      "source": [
        "---\n",
        "Write function"
      ]
    },
    {
      "cell_type": "code",
      "execution_count": 23,
      "metadata": {
        "id": "cNW88OLpu4HH"
      },
      "outputs": [],
      "source": [
        "# DO NOT CHANGE THE NAME & INPUT OF THE FUNCTION\n",
        "def calc_weighted_avg(data, w):\n",
        "    '''\n",
        "    Function to calculate the weighted average of a list\n",
        "\n",
        "    Parameters\n",
        "    ----------\n",
        "    data : list\n",
        "        The sample data\n",
        "\n",
        "    w : list\n",
        "        The sample weights\n",
        "\n",
        "    Returns\n",
        "    -------\n",
        "    avg : float\n",
        "        The weighted average\n",
        "    '''\n",
        "    ###\n",
        "    ### YOUR CODE HERE\n",
        "    weight_list = [] # creating list to store all the weigths\n",
        "\n",
        "    for i in range(len(data)):\n",
        "      \n",
        "      # calculating the weights\n",
        "      weight = data[i] * w[i]\n",
        "      weight_list.append(weight)\n",
        "    \n",
        "    value = sum(weight_list) # sum all the values within weight_list\n",
        "    \n",
        "    return value\n",
        "    ###"
      ]
    },
    {
      "cell_type": "markdown",
      "metadata": {
        "id": "mN7H9zGexdDN"
      },
      "source": [
        "Check function"
      ]
    },
    {
      "cell_type": "code",
      "execution_count": 24,
      "metadata": {
        "colab": {
          "base_uri": "https://localhost:8080/"
        },
        "id": "RLEMQHtuxfhk",
        "outputId": "2fb67127-2a62-428a-e16a-d0ffe7ce90ea"
      },
      "outputs": [
        {
          "name": "stdout",
          "output_type": "stream",
          "text": [
            "32.0\n"
          ]
        }
      ],
      "source": [
        "# DO NOT CHANGE ANYTHING IN THIS CELL\n",
        "# Just run after you finish the function\n",
        "data = [10, 20, 30, 40, 50]\n",
        "w = [0.10, 0.20, 0.25, 0.3, 0.15]\n",
        "\n",
        "avg = calc_weighted_avg(data, w)\n",
        "print(avg)"
      ]
    },
    {
      "cell_type": "markdown",
      "metadata": {
        "id": "iitkUoYjxxZ_"
      },
      "source": [
        "# 3. Which Toko is More Profitable?\n",
        "---"
      ]
    },
    {
      "cell_type": "markdown",
      "metadata": {
        "id": "ZuQQBYhFx829"
      },
      "source": [
        "You are a data analyst that works with financial team. You are given three list of data: `revenues`, `costs`, and `toko_ID`.\n",
        "\n",
        "Your manager asked which `toko_ID` that is profitable. A `toko` is called profitable if its revenue is higher than its cost.\n",
        "\n",
        "Create a function to return which `toko_ID` is profitable from a given `revenues` and `costs` data."
      ]
    },
    {
      "cell_type": "markdown",
      "metadata": {
        "id": "98H7qqUKEwfA"
      },
      "source": [
        "---\n",
        "Input example-1:\n",
        "\n",
        "```python\n",
        "toko_ID = ['A001', 'B002', 'C003', 'D004']\n",
        "revenues = [80000, 120000, 57000, 450000]\n",
        "costs = [90000, 110000, 57000, 420000]\n",
        "\n",
        "toko_profit = profitable_toko(toko_ID, revenues, costs)\n",
        "print(toko_profit)\n",
        "```\n",
        "\n",
        "Output example-1:\n",
        "```\n",
        "['B002', 'D004']\n",
        "```"
      ]
    },
    {
      "cell_type": "markdown",
      "metadata": {
        "id": "1ZPMsC2UFAkt"
      },
      "source": [
        "---\n",
        "Input example-2:\n",
        "\n",
        "```python\n",
        "toko_ID = ['p', 'q', 'r']\n",
        "revenues = [80, 90, 30]\n",
        "costs = [70, 100, 20]\n",
        "\n",
        "toko_profit = profitable_toko(toko_ID, revenues, costs)\n",
        "print(toko_profit)\n",
        "```\n",
        "\n",
        "Output example-2:\n",
        "```\n",
        "['p', 'r']\n",
        "```"
      ]
    },
    {
      "cell_type": "markdown",
      "metadata": {
        "id": "Jg9pt7LsFMCV"
      },
      "source": [
        "---\n",
        "Input example-3:\n",
        "\n",
        "```python\n",
        "toko_ID = ['a', 'b', 'c']\n",
        "revenues = [80, 80, 70]\n",
        "costs = [80, 80, 90]\n",
        "\n",
        "toko_profit = profitable_toko(toko_ID, revenues, costs)\n",
        "print(toko_profit)\n",
        "```\n",
        "\n",
        "Output example-3:\n",
        "```\n",
        "[]\n",
        "```"
      ]
    },
    {
      "cell_type": "markdown",
      "metadata": {
        "id": "bGCHn3MqPw_B"
      },
      "source": [
        "---\n",
        "Write a function"
      ]
    },
    {
      "cell_type": "code",
      "execution_count": 25,
      "metadata": {
        "id": "4kyAyD_2xxAN"
      },
      "outputs": [],
      "source": [
        "# DO NOT CHANGE THE NAME & INPUT OF THE FUNCTION\n",
        "def profitable_toko(toko_ID, revenues, costs):\n",
        "    '''\n",
        "    Function to return which toko ID is profitable\n",
        "\n",
        "    Parameters\n",
        "    ----------\n",
        "    toko_ID : list\n",
        "        The ID of toko\n",
        "\n",
        "    revenues : list\n",
        "        The list of revenue from the corresponding toko_ID\n",
        "\n",
        "    costs : list\n",
        "        The list of cost from the corresponding toko_ID\n",
        "\n",
        "    Returns\n",
        "    -------\n",
        "    toko_profit : list\n",
        "        The ID of toko that is profitable\n",
        "    '''\n",
        "    ###\n",
        "    ### Your Code Here\n",
        "\n",
        "    cost_list = [] # creating list to store shop's ID for that is profitable  \n",
        "\n",
        "    for i in range(len(toko_ID)):\n",
        "      \n",
        "      # check if revenue is bigger that the cost, store it to the list if True and pass if False\n",
        "      if revenues[i] > costs[i]:\n",
        "        cost_list.append(toko_ID[i])\n",
        "      else:\n",
        "        pass\n",
        "      \n",
        "    return cost_list\n",
        "    ###"
      ]
    },
    {
      "cell_type": "markdown",
      "metadata": {
        "id": "_aqUmC_00w2U"
      },
      "source": [
        "Check function"
      ]
    },
    {
      "cell_type": "code",
      "execution_count": 26,
      "metadata": {
        "colab": {
          "base_uri": "https://localhost:8080/"
        },
        "id": "5wOtfjJK0wRL",
        "outputId": "5361c5fe-492b-4f2a-f4fe-1c7c15c6af35"
      },
      "outputs": [
        {
          "name": "stdout",
          "output_type": "stream",
          "text": [
            "['B002', 'D004']\n"
          ]
        }
      ],
      "source": [
        "# DO NOT CHANGE ANYTHING IN THIS CELL\n",
        "# Just run after you finish the function\n",
        "toko_ID = ['A001', 'B002', 'C003', 'D004']\n",
        "revenues = [80000, 120000, 57000, 450000]\n",
        "costs = [90000, 110000, 57000, 420000]\n",
        "\n",
        "toko_profit = profitable_toko(toko_ID, revenues, costs)\n",
        "print(toko_profit)"
      ]
    },
    {
      "cell_type": "markdown",
      "metadata": {
        "id": "12xDDdzb1AN2"
      },
      "source": [
        "# 4. Clean the Phone Number\n",
        "---"
      ]
    },
    {
      "cell_type": "markdown",
      "metadata": {
        "id": "oc1RC7A01PaX"
      },
      "source": [
        "You are on a marketing team that have to transfer e-money as a gift to your customer.\n",
        "\n",
        "You noticed that the phone number data is inconsistent & you have to clean it.\n",
        "\n",
        "This is the valid definition of phone number\n",
        "- Starts with `62`, e.g. `62xxxxxxxxxxx`\n",
        "- It must be 11 digit number, excluding `62`\n",
        "\n",
        "Clean the phone number first. If after cleaning, there is an invalid phone number, change the phone number with `'Invalid number'`."
      ]
    },
    {
      "cell_type": "markdown",
      "metadata": {
        "id": "g-Kog1BBGGic"
      },
      "source": [
        "---\n",
        "Input example-1:\n",
        "\n",
        "```python\n",
        "phone_lists = [\n",
        "    '82123321123',\n",
        "    '082321123321',\n",
        "    '+6282-456-654-456',\n",
        "    '+62 82 789 987 789',\n",
        "    '14045',\n",
        "    '82145-451-145',\n",
        "    '829102394821'\n",
        "]\n",
        "\n",
        "phone_clean = clean_phone_number(phone_lists)\n",
        "print(phone_clean)\n",
        "```\n",
        "\n",
        "Output example-1:\n",
        "```\n",
        "[6282123321123, 6282321123321, 6282456654456, 6282789987789, 'Invalid number', 6282145451145, 'Invalid number']\n",
        "```"
      ]
    },
    {
      "cell_type": "markdown",
      "metadata": {
        "id": "mQ3qZYoBGTiT"
      },
      "source": [
        "---\n",
        "Input example-2:\n",
        "\n",
        "```python\n",
        "phone_lists = [\n",
        "    '82432234432',\n",
        "    '+62 82 32',\n",
        "    '14032',\n",
        "    '082 234 432 234'\n",
        "]\n",
        "\n",
        "phone_clean = clean_phone_number(phone_lists)\n",
        "print(phone_clean)\n",
        "```\n",
        "\n",
        "Output example-2:\n",
        "```\n",
        "[6282432234432, 'Invalid number', 'Invalid number', 6282234432234]\n",
        "```"
      ]
    },
    {
      "cell_type": "markdown",
      "metadata": {
        "id": "tU0rr-MaP3I3"
      },
      "source": [
        "---\n",
        "Write function"
      ]
    },
    {
      "cell_type": "code",
      "execution_count": 27,
      "metadata": {
        "id": "nWo8pCxb29oT"
      },
      "outputs": [],
      "source": [
        "# DO NOT CHANGE THE NAME & INPUT OF THE FUNCTION\n",
        "def clean_phone_number(phone_list):\n",
        "    '''\n",
        "    Function to clean the phone number\n",
        "\n",
        "    Parameters\n",
        "    ----------\n",
        "    phone_list : list\n",
        "        The raw sample of phone data\n",
        "\n",
        "    Returns\n",
        "    -------\n",
        "    phone_clean : list\n",
        "        The clean sample of phone data\n",
        "    '''\n",
        "    ###\n",
        "    ### YOUR CODE HERE\n",
        "    cleaned_phone = []\n",
        "\n",
        "    for phone in phone_list:\n",
        "\n",
        "      phone = phone.replace(\" \",\"\").replace(\"-\",\"\").replace(\"+\",\"\") #removing unecessery symbols\n",
        "\n",
        "      # check the first index of the phone number, modifying if to match the standar number\n",
        "      if phone[0] == '8':\n",
        "        phone = '62' + phone\n",
        "      elif phone[0] == '0':\n",
        "        phone = '62' + phone[1:]\n",
        "      else:\n",
        "        pass\n",
        "\n",
        "      # checking the phone numbers length\n",
        "      if len(phone) == 13:\n",
        "        cleaned_phone.append(phone)\n",
        "      else:\n",
        "        cleaned_phone.append('Invalid number')\n",
        "\n",
        "    return cleaned_phone\n",
        "    ###"
      ]
    },
    {
      "cell_type": "markdown",
      "metadata": {
        "id": "vVzL-QZH439i"
      },
      "source": [
        "Check function"
      ]
    },
    {
      "cell_type": "code",
      "execution_count": 28,
      "metadata": {
        "colab": {
          "base_uri": "https://localhost:8080/"
        },
        "id": "RlqzRVVi1CwZ",
        "outputId": "344c9e52-2551-4568-d85f-dc51c96fee42"
      },
      "outputs": [
        {
          "name": "stdout",
          "output_type": "stream",
          "text": [
            "['6282123321123', '6282321123321', '6282456654456', '6282789987789', 'Invalid number', '6282145451145', 'Invalid number']\n"
          ]
        }
      ],
      "source": [
        "# DO NOT CHANGE ANYTHING IN THIS CELL\n",
        "# Just run after you finish the function\n",
        "phone_list = [\n",
        "    '82123321123',\n",
        "    '082321123321',\n",
        "    '+6282-456-654-456',\n",
        "    '+62 82 789 987 789',\n",
        "    '14045',\n",
        "    '82145-451-145',\n",
        "    '829102394821'\n",
        "]\n",
        "\n",
        "phone_clean = clean_phone_number(phone_list)\n",
        "print(phone_clean)"
      ]
    },
    {
      "cell_type": "markdown",
      "metadata": {
        "id": "9TLIqzWW59NH"
      },
      "source": [
        "# 5. Find the Nearest Tourism Object\n",
        "---"
      ]
    },
    {
      "cell_type": "markdown",
      "metadata": {
        "id": "LV2KK3dH6mma"
      },
      "source": [
        "You are developing a web application that recommend good place to stay during holiday sessions.\n",
        "\n",
        "A feature loved by most of customer is **finding** the nearest tourism object from a position (could be their hotel).\n",
        "\n",
        "Given that each object/places has an location coordinates (x, y), you can calculate the distance of two objects by\n",
        "\n",
        "$$\n",
        "\\text{dist}(A, B)\n",
        "=\n",
        "\\sqrt{\n",
        "    (A_{x} - B_{x})^{2}\n",
        "    +\n",
        "    (A_{y} - B_{y})^{2}\n",
        "}\n",
        "$$"
      ]
    },
    {
      "cell_type": "markdown",
      "metadata": {
        "id": "slwz-Yj_ARe9"
      },
      "source": [
        "Given a list of tourism object (`tourism_name`), tourism object coordinates (`tourism_coor`), and customer places coordinates (`current_coor`), return the nearest tourism object as a `dict` type."
      ]
    },
    {
      "cell_type": "markdown",
      "metadata": {
        "id": "fpzPnc0hdVOf"
      },
      "source": [
        "Example of calculating distance between two objects\n",
        "\n",
        "- Say we want to calculate the distance between `Taman C` and `Danau D`\n",
        "  - `Taman C` location coordinate: `[46.67, 40.44]`\n",
        "  - `Danau D` location coordinate: `[21.83, 1.94]`\n",
        "- So the distance is\n",
        "\n",
        "$$\n",
        "\\begin{align*}\n",
        "\\text{dist}(C, D)\n",
        "&=\n",
        "\\sqrt{\n",
        "    (C_{x} - D_{x})^{2} + (C_{y} - D_{y})^{2}\n",
        "} \\\\\n",
        "&=\n",
        "\\sqrt{\n",
        "    (46.67 - 21.83)^{2} + (40.44-1.94)^{2}\n",
        "} \\\\\n",
        "&=\n",
        "\\sqrt{\n",
        "    (24.84)^{2} + (38.50)^{2}\n",
        "} \\\\\n",
        "&=\n",
        "\\sqrt{\n",
        "    2099.28\n",
        "} \\\\\n",
        "\\text{dist}(C, D)\n",
        "&= 45.82\n",
        "\\end{align*}\n",
        "$$"
      ]
    },
    {
      "cell_type": "markdown",
      "metadata": {
        "id": "9n3FrgyUHMxn"
      },
      "source": [
        "---\n",
        "Input example-1:\n",
        "\n",
        "```python\n",
        "current_coor = [-2.21, 3.15]\n",
        "tourism_coor = [\n",
        "    [-34.93, -31.23],\n",
        "    [-77.90, 79.90],\n",
        "    [46.67, 40.44],\n",
        "    [21.83, 1.94],\n",
        "    [41.77, -63.44],\n",
        "    [-1.10, -47.22],\n",
        "    [68.81, 64.65],\n",
        "    [-21.23, 22.03],\n",
        "    [68.30, -69.73],\n",
        "    [12.82, 30.75],\n",
        "]\n",
        "tourism_name = [\n",
        "    'Pantai A',\n",
        "    'Jembatan B',\n",
        "    'Taman C',\n",
        "    'Danau D',\n",
        "    'Perpustakaan E',\n",
        "    'Mall F',\n",
        "    'Monumen G',\n",
        "    'Taman Hutan H',\n",
        "    'Air terjun I',\n",
        "    'Gunung J'\n",
        "]\n",
        "\n",
        "nearest_object = find_nearest(current_coor, tourism_coor, tourism_name)\n",
        "print(nearest_object)\n",
        "```\n",
        "\n",
        "Output example-1:\n",
        "```\n",
        "{'object': 'Danau D', 'dist': 24.07043206924213}\n",
        "```"
      ]
    },
    {
      "cell_type": "markdown",
      "metadata": {
        "id": "SU4xkxlSHgtd"
      },
      "source": [
        "---\n",
        "Input example-2:\n",
        "\n",
        "```python\n",
        "current_coor = [0, 0]\n",
        "tourism_coor = [\n",
        "    [0, 1],\n",
        "    [2, 0],\n",
        "    [0, 3],\n",
        "    [-1, -1],\n",
        "    [-2, -1],\n",
        "    [-1, -3]\n",
        "]\n",
        "tourism_name = [\n",
        "    'object a',\n",
        "    'object b',\n",
        "    'object c',\n",
        "    'object d',\n",
        "    'object e',\n",
        "    'object f'\n",
        "]\n",
        "\n",
        "nearest_object = find_nearest(current_coor, tourism_coor, tourism_name)\n",
        "print(nearest_object)\n",
        "```\n",
        "\n",
        "Output example-2:\n",
        "```\n",
        "{'object': 'object a', 'dist': 1.0}\n",
        "```"
      ]
    },
    {
      "cell_type": "markdown",
      "metadata": {
        "id": "paOw8dccP9ZD"
      },
      "source": [
        "---\n",
        "Write function"
      ]
    },
    {
      "cell_type": "code",
      "execution_count": 29,
      "metadata": {
        "id": "ZBffCbsp6Afc"
      },
      "outputs": [],
      "source": [
        "# DO NOT CHANGE THE NAME & INPUT OF THE FUNCTION\n",
        "# Function to find distance between 2 object\n",
        "def calc_dist(A, B):\n",
        "    '''\n",
        "    Function to calculate distance between two objects\n",
        "\n",
        "    Parameters\n",
        "    ----------\n",
        "    A : list\n",
        "        The coordinates of object A\n",
        "\n",
        "    B : list\n",
        "        The coordinates of object B\n",
        "\n",
        "    Returns\n",
        "    -------\n",
        "    dist : float\n",
        "        The distance between A & B\n",
        "    '''\n",
        "    ###\n",
        "    ### YOUR CODE HERE\n",
        "\n",
        "    current_x, current_y = A # exporting the current coordinate into x and y\n",
        "    tourism_x, tourism_y = B # exporting the tourism coordinate into x and y\n",
        "\n",
        "    # calculate the distance between two locations\n",
        "    distance = ((current_x - tourism_x)**2 + (current_y - tourism_y)**2) ** 0.5\n",
        "\n",
        "    return distance\n",
        "    ###"
      ]
    },
    {
      "cell_type": "code",
      "execution_count": 31,
      "metadata": {
        "id": "S-s3cwAvJQwL"
      },
      "outputs": [],
      "source": [
        "# DO NOT CHANGE THE NAME & INPUT OF THE FUNCTION\n",
        "def find_nearest(current_coor, tourism_coor, tourism_name):\n",
        "    '''\n",
        "    Function to find nearest tourism object near current coordinates\n",
        "\n",
        "    Parameters\n",
        "    ----------\n",
        "    current_coor : list\n",
        "        The guest current coordinate\n",
        "\n",
        "    tourism_coor : list\n",
        "        The tourism object coordinates\n",
        "\n",
        "    toursim_name : list\n",
        "        The tourism object name\n",
        "\n",
        "    Returns\n",
        "    -------\n",
        "    nearest_object : dict\n",
        "        The dictionary of nearest tourism object\n",
        "    '''\n",
        "    ###\n",
        "    ### YOUR CODE HERE\n",
        "\n",
        "    min_value = 0\n",
        "    min_index = 0\n",
        "\n",
        "    for i in range(len(tourism_coor)):\n",
        "      \n",
        "      # calling function to calculate the distance beetween to locations\n",
        "      distance = calc_dist(current_coor,tourism_coor[i])\n",
        "\n",
        "      # Updating the minimal distance beetween current location and the others\n",
        "      if min_value == 0 or distance < min_value:\n",
        "        min_value = distance\n",
        "        min_index = i\n",
        "      else:\n",
        "        min_value = min_value\n",
        "        min_index = min_index\n",
        "\n",
        "    # creating the dictionary to store the destination with minimal distance\n",
        "    min_dict = {\n",
        "        'object':tourism_name[min_index],\n",
        "        'dist':min_value\n",
        "    }\n",
        "    \n",
        "    return min_dict\n",
        "    ###"
      ]
    },
    {
      "cell_type": "markdown",
      "metadata": {
        "id": "ER89qq4IWiv2"
      },
      "source": [
        "Check function"
      ]
    },
    {
      "cell_type": "code",
      "execution_count": 34,
      "metadata": {
        "colab": {
          "base_uri": "https://localhost:8080/"
        },
        "id": "cEx24_VoWfsy",
        "outputId": "41d70348-b601-4389-b368-08d78b333c10"
      },
      "outputs": [
        {
          "name": "stdout",
          "output_type": "stream",
          "text": [
            "{'object': 'Danau D', 'dist': 24.07043206924213}\n"
          ]
        }
      ],
      "source": [
        "# DO NOT CHANGE ANYTHING IN THIS CELL\n",
        "# Just run after you finish the function\n",
        "tourism_name = [\n",
        "    'Pantai A',\n",
        "    'Jembatan B',\n",
        "    'Taman C',\n",
        "    'Danau D',\n",
        "    'Perpustakaan E',\n",
        "    'Mall F',\n",
        "    'Monumen G',\n",
        "    'Taman Hutan H',\n",
        "    'Air terjun I',\n",
        "    'Gunung J'\n",
        "]\n",
        "\n",
        "tourism_coor = [\n",
        "    [-34.93, -31.23],\n",
        "    [-77.90, 79.90],\n",
        "    [46.67, 40.44],\n",
        "    [21.83, 1.94],\n",
        "    [41.77, -63.44],\n",
        "    [-1.10, -47.22],\n",
        "    [68.81, 64.65],\n",
        "    [-21.23, 22.03],\n",
        "    [68.30, -69.73],\n",
        "    [12.82, 30.75],\n",
        "]\n",
        "\n",
        "current_coor = [-2.21, 3.15]\n",
        "\n",
        "nearest_object = find_nearest(current_coor, tourism_coor, tourism_name)\n",
        "print(nearest_object)"
      ]
    },
    {
      "cell_type": "markdown",
      "metadata": {
        "id": "M5K-F970XVAn"
      },
      "source": [
        "# 6. Find Size of People in Some Groups\n",
        "---"
      ]
    },
    {
      "cell_type": "markdown",
      "metadata": {
        "id": "PAsUA1bzXq78"
      },
      "source": [
        "You are in a research team. Your product team asked you to help their research agenda, i.e. performing a Focus Group Discussion (FGD).\n",
        "\n",
        "The product team need to distribute the user equally to each group. Please help the product team."
      ]
    },
    {
      "cell_type": "markdown",
      "metadata": {
        "id": "BpBvDLYqYgWq"
      },
      "source": [
        "Your tasked is to divide $n$ people as equal as possible to $k$ groups."
      ]
    },
    {
      "cell_type": "markdown",
      "metadata": {
        "id": "iJOlodsZINpC"
      },
      "source": [
        "---\n",
        "Input example-1:\n",
        "\n",
        "```python\n",
        "n = 14\n",
        "k = 3\n",
        "\n",
        "group_size = distribute_user(n, k)\n",
        "print(group_size)\n",
        "```\n",
        "\n",
        "Output example-1:\n",
        "```\n",
        "[5, 5, 4]\n",
        "```"
      ]
    },
    {
      "cell_type": "markdown",
      "metadata": {
        "id": "pD7X1GDoId97"
      },
      "source": [
        "---\n",
        "Input example-2:\n",
        "\n",
        "```python\n",
        "n = 40\n",
        "k = 7\n",
        "\n",
        "group_size = distribute_user(n, k)\n",
        "print(group_size)\n",
        "```\n",
        "\n",
        "Output example-2:\n",
        "```\n",
        "[6, 6, 6, 6, 6, 5, 5]\n",
        "```"
      ]
    },
    {
      "cell_type": "markdown",
      "metadata": {
        "id": "epGie_1WInpO"
      },
      "source": [
        "---\n",
        "Input example-3:\n",
        "\n",
        "```python\n",
        "n = 20\n",
        "k = 2\n",
        "\n",
        "group_size = distribute_user(n, k)\n",
        "print(group_size)\n",
        "```\n",
        "\n",
        "Output example-3:\n",
        "```\n",
        "[10, 10]\n",
        "```"
      ]
    },
    {
      "cell_type": "markdown",
      "metadata": {
        "id": "cKHeHPVrQTZx"
      },
      "source": [
        "---\n",
        "Write function"
      ]
    },
    {
      "cell_type": "code",
      "execution_count": 41,
      "metadata": {
        "id": "wHtoqo7DWtMw"
      },
      "outputs": [],
      "source": [
        "# DO NOT CHANGE THE NAME & INPUT OF THE FUNCTION\n",
        "def distribute_user(n, k):\n",
        "    '''\n",
        "    Function to distribute n user equally to k class\n",
        "\n",
        "    Parameters\n",
        "    ----------\n",
        "    n : int\n",
        "        The number of people to distribute\n",
        "\n",
        "    k : int\n",
        "        The number of group\n",
        "\n",
        "    Returns\n",
        "    -------\n",
        "    group_size : list\n",
        "        The list of group size (must be integer) and shape of (k)\n",
        "    '''\n",
        "    ###\n",
        "    ### YOUR CODE\n",
        "    num_list = []\n",
        "\n",
        "    # performing decremental Looping using For\n",
        "    for i in range(k, 0,-1):\n",
        "      \n",
        "      # check if the n is divisible\n",
        "      if n % i == 0:\n",
        "        value = n // i\n",
        "      else:\n",
        "        value = n//i + 1\n",
        "      \n",
        "      # updating the n value \n",
        "      n -= value \n",
        "\n",
        "      num_list.append(value)\n",
        "\n",
        "    return num_list\n",
        "    ###"
      ]
    },
    {
      "cell_type": "markdown",
      "metadata": {
        "id": "U2XflSGjZx4Q"
      },
      "source": [
        "Check function"
      ]
    },
    {
      "cell_type": "code",
      "execution_count": 43,
      "metadata": {
        "colab": {
          "base_uri": "https://localhost:8080/"
        },
        "id": "nOO1IlWnZwuN",
        "outputId": "a7df605e-2af1-4d9a-8e89-22ad626bc2cd"
      },
      "outputs": [
        {
          "name": "stdout",
          "output_type": "stream",
          "text": [
            "[5, 5, 4]\n"
          ]
        }
      ],
      "source": [
        "# DO NOT CHANGE ANYTHING IN THIS CELL\n",
        "# Just run after you finish the function\n",
        "n = 14\n",
        "k = 3\n",
        "\n",
        "group_size = distribute_user(n, k)\n",
        "print(group_size)"
      ]
    },
    {
      "cell_type": "markdown",
      "metadata": {
        "id": "zSIPgPCNpTvP"
      },
      "source": [
        "# 7. Summarize Data with OOP\n",
        "---"
      ]
    },
    {
      "cell_type": "markdown",
      "metadata": {
        "id": "ru2vSA8spXye"
      },
      "source": [
        "Write a Class that can summarize the given data\n",
        "\n",
        "- Named the class with `Data`\n",
        "- Initialize the object with no input\n",
        "- `Data` has several attributes:\n",
        "  - `data` --> return the input data\n",
        "  - `size` --> return the size of the input data\n",
        "- `Data` has several methods:\n",
        "  - `read_data(data)` --> to read the input data\n",
        "  - `find_total()` --> return the total sum of the input data\n",
        "  - `find_average()` --> return the average of the input data"
      ]
    },
    {
      "cell_type": "markdown",
      "metadata": {
        "id": "2Gq1ewKRI8bA"
      },
      "source": [
        "---\n",
        "Input example-1:\n",
        "\n",
        "```python\n",
        "data = [0, 1, 2, 3, 4, 5, 6, 7, 8, 9]\n",
        "\n",
        "data_obj = Data()\n",
        "data_obj.read_data(data)\n",
        "print(data_obj.data)\n",
        "print(data_obj.size)\n",
        "print(data_obj.find_total())\n",
        "print(data_obj.find_average())\n",
        "```\n",
        "\n",
        "Output example-1:\n",
        "```\n",
        "[0, 1, 2, 3, 4, 5, 6, 7, 8, 9]\n",
        "10\n",
        "45\n",
        "4.5\n",
        "```"
      ]
    },
    {
      "cell_type": "markdown",
      "metadata": {
        "id": "9kMZf0-kJLkI"
      },
      "source": [
        "---\n",
        "Input example-2:\n",
        "\n",
        "```python\n",
        "data = [-4, -3, -2, -1, 0, 1, 2, 3, 4, 5]\n",
        "\n",
        "data_obj = Data()\n",
        "data_obj.read_data(data)\n",
        "print(data_obj.data)\n",
        "print(data_obj.size)\n",
        "print(data_obj.find_total())\n",
        "print(data_obj.find_average())\n",
        "```\n",
        "\n",
        "Output example-2:\n",
        "```\n",
        "[-4, -3, -2, -1, 0, 1, 2, 3, 4, 5]\n",
        "10\n",
        "5\n",
        "0.5\n",
        "```"
      ]
    },
    {
      "cell_type": "markdown",
      "metadata": {
        "id": "QTKxxIc6QXsE"
      },
      "source": [
        "---\n",
        "Write class"
      ]
    },
    {
      "cell_type": "code",
      "execution_count": 50,
      "metadata": {
        "id": "AvGsXD5qqyO3"
      },
      "outputs": [],
      "source": [
        "# DO NOT CHANGE THE NAME & INPUT OF THE CLASS\n",
        "class Data:\n",
        "    ### \n",
        "    ### YOUR CODE \n",
        "    ### \n",
        "\n",
        "    # initiate the object class\n",
        "    def __init__(self): \n",
        "        pass \n",
        "    \n",
        "    # initiate the data and size atributes\n",
        "    def read_data(self, data):\n",
        "        self.data = data \n",
        "        self.size = len(data)\n",
        "\n",
        "    # Finding the sum of all the data inside\n",
        "    def find_total(self):\n",
        "        total = sum(self.data)\n",
        "        return total \n",
        "    \n",
        "    # Finding the average of the data\n",
        "    def find_average(self):\n",
        "        avg = sum(self.data) / self.size\n",
        "        return avg "
      ]
    },
    {
      "cell_type": "markdown",
      "metadata": {
        "id": "OHWA4SunrI9_"
      },
      "source": [
        "Check function"
      ]
    },
    {
      "cell_type": "code",
      "execution_count": 51,
      "metadata": {
        "colab": {
          "base_uri": "https://localhost:8080/"
        },
        "id": "QZC3Wbw2rNdL",
        "outputId": "4461b563-1054-42dd-857d-f582e77a0866"
      },
      "outputs": [
        {
          "name": "stdout",
          "output_type": "stream",
          "text": [
            "[0, 1, 2, 3, 4, 5, 6, 7, 8, 9]\n",
            "10\n",
            "45\n",
            "4.5\n"
          ]
        }
      ],
      "source": [
        "# DO NOT CHANGE ANYTHING IN THIS CELL\n",
        "# Just run after you finish the function\n",
        "data = [0, 1, 2, 3, 4, 5, 6, 7, 8, 9]\n",
        "\n",
        "try:\n",
        "    data_obj = Data()\n",
        "    data_obj.read_data(data)\n",
        "\n",
        "    print(data_obj.data)\n",
        "    print(data_obj.size)\n",
        "    print(data_obj.find_total())\n",
        "    print(data_obj.find_average())\n",
        "except Exception as e:\n",
        "    print('There is something wrong')"
      ]
    },
    {
      "cell_type": "markdown",
      "metadata": {
        "id": "EAfzCwRWbEKo"
      },
      "source": [
        "# 8. User with Double Promo\n",
        "---"
      ]
    },
    {
      "cell_type": "markdown",
      "metadata": {
        "id": "-KEhH3TtbddB"
      },
      "source": [
        "You are on a marketing team. Your team have 2 types of promo, `promo A` and `promo B`, that user can get **only one of them**.\n",
        "\n",
        "You suspect that there are some users have double promo. Given a `user_ID`, `promo_A_status`, and `promo_B_status`, create a function that return `user_ID` whose have double promo."
      ]
    },
    {
      "cell_type": "markdown",
      "metadata": {
        "id": "IYqvC-5QJuJH"
      },
      "source": [
        "---\n",
        "Input example-1:\n",
        "\n",
        "```python\n",
        "user_ID = ['01', '02', '03', '04', '05', '06', '07']\n",
        "promo_A_status = [1, 0, 0, 1, 1, 0, 1]\n",
        "promo_B_status = [0, 0, 1, 1, 0, 1, 1]\n",
        "\n",
        "double_ID = find_double_promo(user_ID, promo_A_status, promo_B_status)\n",
        "print(double_ID)\n",
        "```\n",
        "\n",
        "Output example-1:\n",
        "```\n",
        "['04', '07']\n",
        "```"
      ]
    },
    {
      "cell_type": "markdown",
      "metadata": {
        "id": "G9Lpyf5pJ4nf"
      },
      "source": [
        "---\n",
        "Input example-2:\n",
        "\n",
        "```python\n",
        "user_ID = ['a', 'b', 'c', 'd', 'e']\n",
        "promo_A_status = [1, 1, 1, 1, 1]\n",
        "promo_B_status = [0, 1, 1, 1, 1]\n",
        "\n",
        "double_ID = find_double_promo(user_ID, promo_A_status, promo_B_status)\n",
        "print(double_ID)\n",
        "```\n",
        "\n",
        "Output example-2:\n",
        "```\n",
        "['b', 'c', 'd', 'e']\n",
        "```"
      ]
    },
    {
      "cell_type": "markdown",
      "metadata": {
        "id": "j6iRo-fLKFhd"
      },
      "source": [
        "---\n",
        "Input example-3:\n",
        "\n",
        "```python\n",
        "user_ID = ['a4a', '23b', 'f4c', '5d6']\n",
        "promo_A_status = [0, 0, 1, 0]\n",
        "promo_B_status = [0, 0, 1, 1]\n",
        "\n",
        "double_ID = find_double_promo(user_ID, promo_A_status, promo_B_status)\n",
        "print(double_ID)\n",
        "```\n",
        "\n",
        "Output example-3:\n",
        "```\n",
        "['f4c']\n",
        "```"
      ]
    },
    {
      "cell_type": "markdown",
      "metadata": {
        "id": "fG1Htj_SQdGo"
      },
      "source": [
        "---\n",
        "Write function"
      ]
    },
    {
      "cell_type": "code",
      "execution_count": 52,
      "metadata": {
        "id": "-inqZtScbLfk"
      },
      "outputs": [],
      "source": [
        "# DO NOT CHANGE THE NAME & INPUT OF THE FUNCTION\n",
        "def find_double_promo(user_ID, promo_A_status, promo_B_status):\n",
        "    '''\n",
        "    Find user ID that has double promo\n",
        "\n",
        "    Parameters\n",
        "    ----------\n",
        "    user_ID: list\n",
        "        List of user ID\n",
        "\n",
        "    promo_A_status: list\n",
        "        List of user ID that get promo A.\n",
        "        1 = get promo\n",
        "        0 = did not get promo\n",
        "\n",
        "    promo_B_status: list\n",
        "        List of user ID that get promo B.\n",
        "        1 = get promo\n",
        "        0 = did not get promo\n",
        "\n",
        "    Returns\n",
        "    -------\n",
        "    double_ID: list\n",
        "        List of user that get double promo.\n",
        "        If None, return []\n",
        "    '''\n",
        "    ###\n",
        "    ### YOUR CODE HERE\n",
        "    same_status = [] # initiate list to store the user ID's with same status\n",
        "\n",
        "    for i, user in enumerate(user_ID):\n",
        "      \n",
        "      status_A = promo_A_status[i]\n",
        "      status_B = promo_B_status[i]\n",
        "    \n",
        "      # check wether the status is the same or not\n",
        "      if status_A == 1 and status_B == 1:\n",
        "        same_status.append(user)\n",
        "      else:\n",
        "        pass\n",
        "      \n",
        "    return same_status\n",
        "    ###\n"
      ]
    },
    {
      "cell_type": "markdown",
      "metadata": {
        "id": "MIZIch6IcYLC"
      },
      "source": [
        "Check function"
      ]
    },
    {
      "cell_type": "code",
      "execution_count": 53,
      "metadata": {
        "colab": {
          "base_uri": "https://localhost:8080/"
        },
        "id": "tgwAXxZedj5p",
        "outputId": "1a2bc973-4b51-4b46-e172-6f8702c66244"
      },
      "outputs": [
        {
          "name": "stdout",
          "output_type": "stream",
          "text": [
            "['04', '07']\n"
          ]
        }
      ],
      "source": [
        "# DO NOT CHANGE ANYTHING IN THIS CELL\n",
        "# Just run after you finish the function\n",
        "user_ID = ['01', '02', '03', '04', '05', '06', '07']\n",
        "promo_A_status = [1, 0, 0, 1, 1, 0, 1]\n",
        "promo_B_status = [0, 0, 1, 1, 0, 1, 1]\n",
        "\n",
        "double_ID = find_double_promo(user_ID, promo_A_status, promo_B_status)\n",
        "print(double_ID)"
      ]
    },
    {
      "cell_type": "markdown",
      "metadata": {
        "id": "fI9XOK7heIDc"
      },
      "source": [
        "# 9. Find Duplicate Person in a Research\n",
        "---"
      ]
    },
    {
      "cell_type": "markdown",
      "metadata": {
        "id": "G52VxxpveQzk"
      },
      "source": [
        "The marketing team & sales want to make sure that there is no duplicate person in the data.\n",
        "\n",
        "Given a list of people ID & its name, find people ID & names that has similar names."
      ]
    },
    {
      "cell_type": "markdown",
      "metadata": {
        "id": "T2kqfUT2KrF4"
      },
      "source": [
        "---\n",
        "Input example-1:\n",
        "\n",
        "```python\n",
        "people_ID = ['01', '02', '03', '04', '05', '06', '07']\n",
        "people_name = [\n",
        "    'Budi santoso',\n",
        "    'Pramono Setiadi',\n",
        "    'Rijal',\n",
        "    'Dedi setiawan',\n",
        "    'rijal',\n",
        "    'Alesha Nur',\n",
        "    'Dedi Setiawan'\n",
        "]\n",
        "\n",
        "people_duplicate = find_duplicates(people_ID, people_name)\n",
        "print(people_duplicate)\n",
        "```\n",
        "\n",
        "Output example-1:\n",
        "```\n",
        "[['03', 'Rijal'], ['04', 'Dedi setiawan'], ['05', 'rijal'], ['07', 'Dedi Setiawan']]\n",
        "```"
      ]
    },
    {
      "cell_type": "markdown",
      "metadata": {
        "id": "vdmSOa8qKzzc"
      },
      "source": [
        "---\n",
        "Input example-2:\n",
        "\n",
        "```python\n",
        "people_ID = ['1e', 'd2', '3b', 'a4', 'q5']\n",
        "people_name = [\n",
        "    'aa cahya',\n",
        "    'AA cahYa',\n",
        "    'bb durian',\n",
        "    'cc maANGGa',\n",
        "    'AA CAHYA ',\n",
        "]\n",
        "\n",
        "people_duplicate = find_duplicates(people_ID, people_name)\n",
        "print(people_duplicate)\n",
        "```\n",
        "\n",
        "Output example-2:\n",
        "```\n",
        "[['1e', 'aa cahya'], ['d2', 'AA cahYa'], ['q5', 'AA CAHYA ']]\n",
        "```"
      ]
    },
    {
      "cell_type": "markdown",
      "metadata": {
        "id": "DJcZLrm5QjJX"
      },
      "source": [
        "---\n",
        "Write function"
      ]
    },
    {
      "cell_type": "code",
      "execution_count": 57,
      "metadata": {
        "id": "V6NVW9RweOi6"
      },
      "outputs": [],
      "source": [
        "# DO NOT CHANGE THE NAME & INPUT OF THE FUNCTION\n",
        "def find_duplicates(people_ID, people_name):\n",
        "    '''\n",
        "    Function to find duplicate person\n",
        "\n",
        "    Parameters\n",
        "    ----------\n",
        "    people_ID : List\n",
        "        list of people ID\n",
        "\n",
        "    people_name : list\n",
        "        list of people name\n",
        "\n",
        "    Returns\n",
        "    -------\n",
        "    people_duplicate : list\n",
        "        List of duplicate people\n",
        "    '''\n",
        "    ###\n",
        "    ### YOUR CODE HERE\n",
        "\n",
        "    same_names = [] # list to store the same name\n",
        "\n",
        "    for i in range(len(people_ID)):\n",
        "      \n",
        "      single_name = people_name[i].upper().replace(\" \", \"\") # removing space from a single name and make it capitals \n",
        "      names = people_name[i+1:] # storing the other names to campare it with the single name\n",
        "\n",
        "      for name in names:\n",
        "        name = name.upper().replace(\" \", \"\") # make it capital and remove the space\n",
        "\n",
        "        # if name value is same as the single name value and not already in the list, store it on the list\n",
        "        if name == single_name and name not in same_names:\n",
        "            same_names.append(name)\n",
        "\n",
        "    name_ID_list = [] # list to srote the same names and it's id\n",
        "\n",
        "    for i, name in enumerate(people_name):\n",
        "      name = name.upper().replace(\" \", \"\") # make it capital and remove the space\n",
        "\n",
        "      if name in same_names:\n",
        "         name_ID_list.append([people_ID[i] , people_name[i]])\n",
        "\n",
        "    return name_ID_list\n",
        "    ###"
      ]
    },
    {
      "cell_type": "markdown",
      "metadata": {
        "id": "sIsOqO5Hhlfa"
      },
      "source": [
        "Check function"
      ]
    },
    {
      "cell_type": "code",
      "execution_count": 58,
      "metadata": {
        "colab": {
          "base_uri": "https://localhost:8080/"
        },
        "id": "Hvf5_shihkQX",
        "outputId": "41646bf3-d0ed-445e-a23e-b226c26e441d"
      },
      "outputs": [
        {
          "name": "stdout",
          "output_type": "stream",
          "text": [
            "[['03', 'Rijal'], ['04', 'Dedi setiawan'], ['05', 'rijal'], ['07', 'Dedi Setiawan']]\n"
          ]
        }
      ],
      "source": [
        "# DO NOT CHANGE ANYTHING IN THIS CELL\n",
        "# Just run after you finish the function\n",
        "people_ID = ['01', '02', '03', '04', '05', '06', '07']\n",
        "people_name = [\n",
        "    'Budi santoso',\n",
        "    'Pramono Setiadi',\n",
        "    'Rijal',\n",
        "    'Dedi setiawan',\n",
        "    'rijal',\n",
        "    'Alesha Nur',\n",
        "    'Dedi Setiawan'\n",
        "]\n",
        "\n",
        "people_duplicate = find_duplicates(people_ID, people_name)\n",
        "print(people_duplicate)"
      ]
    },
    {
      "cell_type": "markdown",
      "metadata": {
        "id": "8nLTA3CZkOwn"
      },
      "source": [
        "# 10. Time to Transport Logistic\n",
        "---"
      ]
    },
    {
      "cell_type": "markdown",
      "metadata": {
        "id": "LS3tNJ-wkf04"
      },
      "source": [
        "You are a data analyst in a transport logistic. You need to recommend the logistic driver a set of route so that they can deliver the goods efficiently.\n",
        "\n",
        "Simply, you can create a function to calculate time needed for the driver to follow several set of routes from an initial position and comeback again."
      ]
    },
    {
      "cell_type": "markdown",
      "metadata": {
        "id": "lpRhmdPMfp7z"
      },
      "source": [
        "We already have a look-up table that shows the duration needed for moving between two locations\n",
        "\n",
        "**Durations Table**\n",
        "\n",
        "<center>\n",
        "\n",
        "||A|B|C|D|E|\n",
        "|:-:|:-:|:-:|:-:|:-:|:-:|\n",
        "|A| 0 | 3 | 5 | 10 | 4 |\n",
        "|B| 3 | 0 | 6 | 8 | 9 |\n",
        "|C| 5 | 6 | 0 | 7 | 2 |\n",
        "|D| 10 | 8 | 7 | 0 | 1 |\n",
        "|E| 4 | 9 | 2 | 1 | 0 |"
      ]
    },
    {
      "cell_type": "markdown",
      "metadata": {
        "id": "fP4JXfOqgQ9O"
      },
      "source": [
        "Say, you want to know the duration of city `B` to city `E`,\n",
        "\n",
        "**First**, `B` is the starting point, so go to row `B`\n",
        "\n",
        "||A|B|C|D|E|\n",
        "|:-:|:-:|:-:|:-:|:-:|:-:|\n",
        "|B| 3 | 0 | 6 | 8 | 9 |\n",
        "\n",
        "<br>\n",
        "\n",
        "**Then**, `E` is the destination, so from the selected row, go to column `E`\n",
        "\n",
        "||A|B|C|D|E|\n",
        "|:-:|:-:|:-:|:-:|:-:|:-:|\n",
        "|B|  |  |  |  | 9 |\n",
        "\n",
        "<br>\n",
        "\n",
        "**Finally**, the duration needed to go from `B` to `E` is 9"
      ]
    },
    {
      "cell_type": "markdown",
      "metadata": {
        "id": "PcqS5JDjlB57"
      },
      "source": [
        "To calculate it easily in Python, we turn the duration table into this list\n",
        "\n",
        "```python\n",
        "duration_table = [\n",
        "    [0, 3, 5, 10, 4],\n",
        "    [3, 0, 6, 8, 9],\n",
        "    [5, 6, 0, 7, 2],\n",
        "    [10, 8, 7, 0, 1],\n",
        "    [4, 9, 2, 1, 0]\n",
        "]\n",
        "```\n",
        "\n",
        "Say you want to measure duration from city `B` to `E`, then the duration would be `duration_table[1][4]` or `duration_table[4][1]`"
      ]
    },
    {
      "cell_type": "code",
      "execution_count": null,
      "metadata": {
        "colab": {
          "base_uri": "https://localhost:8080/"
        },
        "id": "VQaSlT_SmG-m",
        "outputId": "947c0d0b-00d1-4fc8-8a78-8f752ed4b1b9"
      },
      "outputs": [
        {
          "data": {
            "text/plain": [
              "(9, 9)"
            ]
          },
          "execution_count": 8,
          "metadata": {},
          "output_type": "execute_result"
        }
      ],
      "source": [
        "# Run this code\n",
        "# Don't change anything\n",
        "duration_table = [\n",
        "    [0, 3, 5, 10, 4],\n",
        "    [3, 0, 6, 8, 9],\n",
        "    [5, 6, 0, 7, 2],\n",
        "    [10, 8, 7, 0, 1],\n",
        "    [4, 9, 2, 1, 0]\n",
        "]\n",
        "\n",
        "duration_table[1][4], duration_table[4][1]"
      ]
    },
    {
      "cell_type": "markdown",
      "metadata": {
        "id": "FIbn_sYchcWg"
      },
      "source": [
        "We usually calculate the duration needed from a set of route, e.g. `ABCDEBE`.\n",
        "\n",
        "The step to calculate the total duration needed to move according to the route (`ABCDEBE`) and get back to the original position (in this case is `A`)\n",
        "\n",
        "**First**, Extract all the pair of destination inside the route `ABCDEBE`\n",
        "\n",
        "|Route|Time|\n",
        "|:-:|:-:|\n",
        "|`A -> B`||\n",
        "|`B -> C`||\n",
        "|`C -> D`||\n",
        "|`D -> E`||\n",
        "|`E -> B`||\n",
        "|`B -> E`||\n",
        "|`E -> A`||\n",
        "\n",
        "<br>\n",
        "\n",
        "**Next**, obtain all the route duration from the destination table\n",
        "\n",
        "|Route|Time|\n",
        "|:-:|:-:|\n",
        "|`A -> B`|3|\n",
        "|`B -> C`|6|\n",
        "|`C -> D`|7|\n",
        "|`D -> E`|1|\n",
        "|`E -> B`|9|\n",
        "|`B -> E`|9|\n",
        "|`E -> A`|4|\n",
        "\n",
        "<br>\n",
        "\n",
        "**Finally**, add all the time\n",
        "\n",
        "$$\n",
        "\\begin{align*}\n",
        "\\text{total time} &= 3 + 6 + 7 + 1 + 9 + 9 + 4 \\\\\n",
        "\\text{total time} &= 39 \\\\\n",
        "\\end{align*}\n",
        "$$\n"
      ]
    },
    {
      "cell_type": "markdown",
      "metadata": {
        "id": "PiF2rGR0LqM8"
      },
      "source": [
        "---\n",
        "Input example-1:\n",
        "\n",
        "```python\n",
        "duration_table = [\n",
        "    [0, 3, 5, 10, 4],\n",
        "    [3, 0, 6, 8, 9],\n",
        "    [5, 6, 0, 7, 2],\n",
        "    [10, 8, 7, 0, 1],\n",
        "    [4, 9, 2, 1, 0]\n",
        "]\n",
        "route = 'ABCDEBE'\n",
        "\n",
        "total_time = calculate_duration(route, duration_table)\n",
        "print(total_time)\n",
        "```\n",
        "\n",
        "Output example-1:\n",
        "```\n",
        "39\n",
        "```"
      ]
    },
    {
      "cell_type": "markdown",
      "metadata": {
        "id": "NKgnFF0IL1_3"
      },
      "source": [
        "---\n",
        "Input example-2:\n",
        "\n",
        "```python\n",
        "duration_table = [\n",
        "    [0, 1, 2, 3],\n",
        "    [1, 0, 4, 5],\n",
        "    [2, 4, 0, 6],\n",
        "    [3, 5, 6, 0]\n",
        "]\n",
        "route = 'ABCDCDBAB'\n",
        "\n",
        "total_time = calculate_duration(route, duration_table)\n",
        "print(total_time)\n",
        "```\n",
        "\n",
        "Output example-2:\n",
        "```\n",
        "31\n",
        "```"
      ]
    },
    {
      "cell_type": "markdown",
      "metadata": {
        "id": "aE-rouBnQvSQ"
      },
      "source": [
        "---\n",
        "Write function"
      ]
    },
    {
      "cell_type": "code",
      "execution_count": 78,
      "metadata": {
        "id": "uRA_xwz1kcQO"
      },
      "outputs": [],
      "source": [
        "# DO NOT CHANGE THE NAME & INPUT OF THE FUNCTION\n",
        "def calculate_duration(route, duration_table):\n",
        "    '''\n",
        "    Function to calculate travel duration from a given route and back to the origin\n",
        "\n",
        "    Parameters\n",
        "    ----------\n",
        "    route : str\n",
        "        The route\n",
        "\n",
        "    Returns\n",
        "    -------\n",
        "    total_time : int\n",
        "        The travel duration\n",
        "    '''\n",
        "    ###\n",
        "    ### YOUR CODE HERE\n",
        "\n",
        "    def convert_to_num(route):\n",
        "      match route:\n",
        "          case 'A':\n",
        "            route = 0\n",
        "          case 'B':\n",
        "            route = 1\n",
        "          case 'C':\n",
        "            route = 2\n",
        "          case 'D':\n",
        "            route = 3\n",
        "          case 'E':\n",
        "            route = 4\n",
        "      \n",
        "      return route\n",
        "\n",
        "    route_list = [] # initiate list to store the route pair\n",
        "\n",
        "    for index in range(len(route)):\n",
        "      \n",
        "      # check the index and create convert the routes to numerical type\n",
        "      if index+1 < len(route):\n",
        "        route1 = convert_to_num(route[index])\n",
        "        route2 = convert_to_num(route[index+1])\n",
        "      else:\n",
        "        route1 = convert_to_num(route[index])\n",
        "        route2 = convert_to_num(route[0])\n",
        "\n",
        "      # create route pairs and append it on the list\n",
        "      route_pair = [route1, route2]\n",
        "      route_list.append(route_pair)\n",
        "\n",
        "    duration = 0\n",
        "\n",
        "    for route_pairs in route_list:\n",
        "      source = route_pairs[0]\n",
        "      dest = route_pairs[1]\n",
        "      duration += duration_table[source][dest] # calculate the duration needed\n",
        "      \n",
        "    return duration\n",
        "    ###"
      ]
    },
    {
      "cell_type": "markdown",
      "metadata": {
        "id": "FktMhd47ni_y"
      },
      "source": [
        "Check function"
      ]
    },
    {
      "cell_type": "code",
      "execution_count": 79,
      "metadata": {
        "colab": {
          "base_uri": "https://localhost:8080/"
        },
        "id": "tJX-kYnMnhkz",
        "outputId": "a62c17d0-1d7d-44ae-c8aa-0eabf7ed1e9a"
      },
      "outputs": [
        {
          "name": "stdout",
          "output_type": "stream",
          "text": [
            "39\n"
          ]
        }
      ],
      "source": [
        "# DO NOT CHANGE ANYTHING IN THIS CELL\n",
        "# Just run after you finish the function\n",
        "route = 'ABCDEBE'\n",
        "duration_table = [\n",
        "    [0, 3, 5, 10, 4],\n",
        "    [3, 0, 6, 8, 9],\n",
        "    [5, 6, 0, 7, 2],\n",
        "    [10, 8, 7, 0, 1],\n",
        "    [4, 9, 2, 1, 0]\n",
        "]\n",
        "\n",
        "total_time = calculate_duration(route, duration_table)\n",
        "print(total_time)"
      ]
    }
  ],
  "metadata": {
    "colab": {
      "collapsed_sections": [
        "mHn4dahHthcr",
        "8rJAViFqu2Mp",
        "iitkUoYjxxZ_",
        "12xDDdzb1AN2",
        "9TLIqzWW59NH",
        "zSIPgPCNpTvP",
        "EAfzCwRWbEKo",
        "fI9XOK7heIDc"
      ],
      "provenance": []
    },
    "kernelspec": {
      "display_name": "Python 3",
      "name": "python3"
    },
    "language_info": {
      "codemirror_mode": {
        "name": "ipython",
        "version": 3
      },
      "file_extension": ".py",
      "mimetype": "text/x-python",
      "name": "python",
      "nbconvert_exporter": "python",
      "pygments_lexer": "ipython3",
      "version": "3.12.4"
    }
  },
  "nbformat": 4,
  "nbformat_minor": 0
}
